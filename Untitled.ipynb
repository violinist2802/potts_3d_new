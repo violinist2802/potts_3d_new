{
 "cells": [
  {
   "cell_type": "code",
   "execution_count": null,
   "id": "34a97783-2694-4525-92d3-0ef0e611b35d",
   "metadata": {},
   "outputs": [],
   "source": []
  },
  {
   "cell_type": "code",
   "execution_count": 7,
   "id": "c557f6f4-a0b0-4cfa-9e30-24f2c2a5939d",
   "metadata": {},
   "outputs": [
    {
     "name": "stderr",
     "output_type": "stream",
     "text": [
      "wandb: Currently logged in as: v2802. Use `wandb login --relogin` to force relogin\n"
     ]
    },
    {
     "data": {
      "text/html": [
       "wandb version 0.15.4 is available!  To upgrade, please run:\n",
       " $ pip install wandb --upgrade"
      ],
      "text/plain": [
       "<IPython.core.display.HTML object>"
      ]
     },
     "metadata": {},
     "output_type": "display_data"
    },
    {
     "data": {
      "text/html": [
       "Tracking run with wandb version 0.14.0"
      ],
      "text/plain": [
       "<IPython.core.display.HTML object>"
      ]
     },
     "metadata": {},
     "output_type": "display_data"
    },
    {
     "data": {
      "text/html": [
       "Run data is saved locally in <code>/home/vadim/potts_3d_new/wandb/run-20230627_192547-abie39zw</code>"
      ],
      "text/plain": [
       "<IPython.core.display.HTML object>"
      ]
     },
     "metadata": {},
     "output_type": "display_data"
    },
    {
     "data": {
      "text/html": [
       "Syncing run <strong><a href='https://wandb.ai/v2802/potts-optimization/runs/abie39zw' target=\"_blank\">honest-yogurt-5409</a></strong> to <a href='https://wandb.ai/v2802/potts-optimization' target=\"_blank\">Weights & Biases</a> (<a href='https://wandb.me/run' target=\"_blank\">docs</a>)<br/>"
      ],
      "text/plain": [
       "<IPython.core.display.HTML object>"
      ]
     },
     "metadata": {},
     "output_type": "display_data"
    },
    {
     "data": {
      "text/html": [
       " View project at <a href='https://wandb.ai/v2802/potts-optimization' target=\"_blank\">https://wandb.ai/v2802/potts-optimization</a>"
      ],
      "text/plain": [
       "<IPython.core.display.HTML object>"
      ]
     },
     "metadata": {},
     "output_type": "display_data"
    },
    {
     "data": {
      "text/html": [
       " View run at <a href='https://wandb.ai/v2802/potts-optimization/runs/abie39zw' target=\"_blank\">https://wandb.ai/v2802/potts-optimization/runs/abie39zw</a>"
      ],
      "text/plain": [
       "<IPython.core.display.HTML object>"
      ]
     },
     "metadata": {},
     "output_type": "display_data"
    }
   ],
   "source": [
    "import wandb\n",
    "wandb.login()\n",
    "wandb.init(project=\"potts-optimization\")\n",
    "\n",
    "import pandas as pd \n",
    "import pyVCT \n",
    "import json\n",
    "from utils.draw import make_image \n",
    "from utils.auxiliary import *\n",
    "\n"
   ]
  },
  {
   "cell_type": "code",
   "execution_count": null,
   "id": "a8985cd3-cbaa-4422-89c0-35d06596ee35",
   "metadata": {},
   "outputs": [],
   "source": [
    "def train(config=None):\n",
    "    with wandb.init(config=config):\n",
    "        config = wandb.config\n",
    "\n",
    "        conf_dict = dict(config)\n",
    "\n",
    "        types, ctags, fibers, contacts = pyVCT.py_cpmfem(5,5,1,0.0,0.0025,0.2,0.2,0.1,'monolayer_on_fiber',0,5001)\n",
    "\n",
    "        index = ctags.shape[2]//2\n",
    "\n",
    "        metrics = metrics_3d(ctags[:,:,index], types, fibers[:,:,index], contacts[:,:,index], 160, 3)\n",
    "        \n",
    "        wandb.log(metrics)  "
   ]
  },
  {
   "cell_type": "code",
   "execution_count": null,
   "id": "219e913a-9c84-4daf-a973-4197871db249",
   "metadata": {},
   "outputs": [],
   "source": [
    "# with open('sweeps/d20_sweeps/jcmmd_jfbmd.json', 'r') as fp:\n",
    "#     sweep_config = json.load(fp)\n",
    "    \n",
    "# sweep_id = wandb.sweep(sweep_config, project=\"potts-optimization\")"
   ]
  },
  {
   "cell_type": "code",
   "execution_count": null,
   "id": "040b0a89-9928-480e-a1ba-f0a927d4eb33",
   "metadata": {},
   "outputs": [],
   "source": [
    "wandb.agent(project=\"potts-optimization\", sweep_id='sxsb1vn7', function=train, count=2)"
   ]
  }
 ],
 "metadata": {
  "kernelspec": {
   "display_name": "Python 3 (ipykernel)",
   "language": "python",
   "name": "python3"
  },
  "language_info": {
   "codemirror_mode": {
    "name": "ipython",
    "version": 3
   },
   "file_extension": ".py",
   "mimetype": "text/x-python",
   "name": "python",
   "nbconvert_exporter": "python",
   "pygments_lexer": "ipython3",
   "version": "3.11.4"
  }
 },
 "nbformat": 4,
 "nbformat_minor": 5
}
