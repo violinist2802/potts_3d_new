{
 "cells": [
  {
   "cell_type": "code",
   "execution_count": null,
   "id": "34a97783-2694-4525-92d3-0ef0e611b35d",
   "metadata": {},
   "outputs": [],
   "source": []
  },
  {
   "cell_type": "code",
   "execution_count": 1,
   "id": "c557f6f4-a0b0-4cfa-9e30-24f2c2a5939d",
   "metadata": {
    "tags": []
   },
   "outputs": [
    {
     "name": "stderr",
     "output_type": "stream",
     "text": [
      "\u001b[34m\u001b[1mwandb\u001b[0m: Currently logged in as: \u001b[33mberezhnoy20002000\u001b[0m (\u001b[33mpotts-modelling\u001b[0m). Use \u001b[1m`wandb login --relogin`\u001b[0m to force relogin\n"
     ]
    },
    {
     "data": {
      "text/html": [
       "wandb version 0.16.0 is available!  To upgrade, please run:\n",
       " $ pip install wandb --upgrade"
      ],
      "text/plain": [
       "<IPython.core.display.HTML object>"
      ]
     },
     "metadata": {},
     "output_type": "display_data"
    },
    {
     "data": {
      "text/html": [
       "Tracking run with wandb version 0.14.0"
      ],
      "text/plain": [
       "<IPython.core.display.HTML object>"
      ]
     },
     "metadata": {},
     "output_type": "display_data"
    },
    {
     "data": {
      "text/html": [
       "Run data is saved locally in <code>/home/roman/potts_random/potts_3d_new/wandb/run-20231121_144513-xe7kyl9o</code>"
      ],
      "text/plain": [
       "<IPython.core.display.HTML object>"
      ]
     },
     "metadata": {},
     "output_type": "display_data"
    },
    {
     "data": {
      "text/html": [
       "Syncing run <strong><a href='https://wandb.ai/potts-modelling/potts-optimization/runs/xe7kyl9o' target=\"_blank\">solar-capybara-8615</a></strong> to <a href='https://wandb.ai/potts-modelling/potts-optimization' target=\"_blank\">Weights & Biases</a> (<a href='https://wandb.me/run' target=\"_blank\">docs</a>)<br/>"
      ],
      "text/plain": [
       "<IPython.core.display.HTML object>"
      ]
     },
     "metadata": {},
     "output_type": "display_data"
    },
    {
     "data": {
      "text/html": [
       " View project at <a href='https://wandb.ai/potts-modelling/potts-optimization' target=\"_blank\">https://wandb.ai/potts-modelling/potts-optimization</a>"
      ],
      "text/plain": [
       "<IPython.core.display.HTML object>"
      ]
     },
     "metadata": {},
     "output_type": "display_data"
    },
    {
     "data": {
      "text/html": [
       " View run at <a href='https://wandb.ai/potts-modelling/potts-optimization/runs/xe7kyl9o' target=\"_blank\">https://wandb.ai/potts-modelling/potts-optimization/runs/xe7kyl9o</a>"
      ],
      "text/plain": [
       "<IPython.core.display.HTML object>"
      ]
     },
     "metadata": {},
     "output_type": "display_data"
    }
   ],
   "source": [
    "import wandb\n",
    "wandb.login()\n",
    "wandb.init(project=\"potts-optimization\")\n",
    "\n",
    "import pandas as pd \n",
    "import pyVCT \n",
    "import json\n",
    "from utils.draw import make_image \n",
    "from utils.auxiliary import *\n",
    "\n"
   ]
  },
  {
   "cell_type": "code",
   "execution_count": 2,
   "id": "a8985cd3-cbaa-4422-89c0-35d06596ee35",
   "metadata": {
    "tags": []
   },
   "outputs": [],
   "source": [
    "def train(config=None):\n",
    "    with wandb.init(config=config):\n",
    "        config = wandb.config\n",
    "\n",
    "        conf_dict = dict(config)\n",
    "\n",
    "        types, ctags, fibers, contacts = pyVCT.py_cpmfem(5,5,1,0.0,0.0025,0.2,0.2,0.1,'monolayer_on_fiber',0,5001, **conf_dict)\n",
    "\n",
    "        index = ctags.shape[2]//2\n",
    "\n",
    "        metrics = metrics_3d(ctags[:,:,index], types, fibers[:,:,index], contacts[:,:,index], 200, 3)\n",
    "        \n",
    "        wandb.log(metrics)  "
   ]
  },
  {
   "cell_type": "code",
   "execution_count": 3,
   "id": "219e913a-9c84-4daf-a973-4197871db249",
   "metadata": {
    "tags": []
   },
   "outputs": [
    {
     "name": "stdout",
     "output_type": "stream",
     "text": [
      "Create sweep with ID: dsupzqfy\n",
      "Sweep URL: https://wandb.ai/potts-modelling/potts-optimization/sweeps/dsupzqfy\n"
     ]
    }
   ],
   "source": [
    "# with open('sweeps/d20_sweeps/3d_random.json', 'r') as fp:\n",
    "#   sweep_config = json.load(fp)\n",
    "   \n",
    "# sweep_id = wandb.sweep(sweep_config, project=\"potts-optimization\")"
   ]
  },
  {
   "cell_type": "code",
   "execution_count": null,
   "id": "040b0a89-9928-480e-a1ba-f0a927d4eb33",
   "metadata": {
    "tags": []
   },
   "outputs": [
    {
     "name": "stderr",
     "output_type": "stream",
     "text": [
      "\u001b[34m\u001b[1mwandb\u001b[0m: \u001b[33mWARNING\u001b[0m Calling wandb.login() after wandb.init() has no effect.\n",
      "wandb: Waiting for W&B process to finish... (success).\n",
      "wandb: 🚀 View run solar-capybara-8615 at: https://wandb.ai/potts-modelling/potts-optimization/runs/xe7kyl9o\n",
      "wandb: Synced 6 W&B file(s), 0 media file(s), 0 artifact file(s) and 0 other file(s)\n",
      "wandb: Find logs at: ./wandb/run-20231121_144513-xe7kyl9o/logs\n",
      "\u001b[34m\u001b[1mwandb\u001b[0m: Agent Starting Run: 2ztw85q1 with config:\n",
      "\u001b[34m\u001b[1mwandb\u001b[0m: \tDETACH_CM: 921.7977147485234\n",
      "\u001b[34m\u001b[1mwandb\u001b[0m: \tGN_CM: 447.3906429737713\n",
      "\u001b[34m\u001b[1mwandb\u001b[0m: \tINELASTICITY_CM: 566.8358260184575\n",
      "\u001b[34m\u001b[1mwandb\u001b[0m: \tJCMCM: 3.8648925884793\n",
      "\u001b[34m\u001b[1mwandb\u001b[0m: \tJCMMD: 3.9339168572679646\n",
      "\u001b[34m\u001b[1mwandb\u001b[0m: \tLMAX_CM: 26.853451659842044\n",
      "\u001b[34m\u001b[1mwandb\u001b[0m: \tMAX_FOCALS_CM: 14\n",
      "\u001b[34m\u001b[1mwandb\u001b[0m: \tTARGETVOLUME_CM: 1868.956527048581\n",
      "\u001b[34m\u001b[1mwandb\u001b[0m: \tUNLEASH_CM: 743.6598704397198\n"
     ]
    },
    {
     "data": {
      "text/html": [
       "wandb version 0.16.0 is available!  To upgrade, please run:\n",
       " $ pip install wandb --upgrade"
      ],
      "text/plain": [
       "<IPython.core.display.HTML object>"
      ]
     },
     "metadata": {},
     "output_type": "display_data"
    },
    {
     "data": {
      "text/html": [
       "Tracking run with wandb version 0.14.0"
      ],
      "text/plain": [
       "<IPython.core.display.HTML object>"
      ]
     },
     "metadata": {},
     "output_type": "display_data"
    },
    {
     "data": {
      "text/html": [
       "Run data is saved locally in <code>/home/roman/potts_random/potts_3d_new/wandb/run-20231121_144543-2ztw85q1</code>"
      ],
      "text/plain": [
       "<IPython.core.display.HTML object>"
      ]
     },
     "metadata": {},
     "output_type": "display_data"
    },
    {
     "data": {
      "text/html": [
       "Syncing run <strong><a href='https://wandb.ai/potts-modelling/potts-optimization/runs/2ztw85q1' target=\"_blank\">trim-sweep-1</a></strong> to <a href='https://wandb.ai/potts-modelling/potts-optimization' target=\"_blank\">Weights & Biases</a> (<a href='https://wandb.me/run' target=\"_blank\">docs</a>)<br/>Sweep page: <a href='https://wandb.ai/potts-modelling/potts-optimization/sweeps/dsupzqfy' target=\"_blank\">https://wandb.ai/potts-modelling/potts-optimization/sweeps/dsupzqfy</a>"
      ],
      "text/plain": [
       "<IPython.core.display.HTML object>"
      ]
     },
     "metadata": {},
     "output_type": "display_data"
    },
    {
     "data": {
      "text/html": [
       " View project at <a href='https://wandb.ai/potts-modelling/potts-optimization' target=\"_blank\">https://wandb.ai/potts-modelling/potts-optimization</a>"
      ],
      "text/plain": [
       "<IPython.core.display.HTML object>"
      ]
     },
     "metadata": {},
     "output_type": "display_data"
    },
    {
     "data": {
      "text/html": [
       " View sweep at <a href='https://wandb.ai/potts-modelling/potts-optimization/sweeps/dsupzqfy' target=\"_blank\">https://wandb.ai/potts-modelling/potts-optimization/sweeps/dsupzqfy</a>"
      ],
      "text/plain": [
       "<IPython.core.display.HTML object>"
      ]
     },
     "metadata": {},
     "output_type": "display_data"
    },
    {
     "data": {
      "text/html": [
       " View run at <a href='https://wandb.ai/potts-modelling/potts-optimization/runs/2ztw85q1' target=\"_blank\">https://wandb.ai/potts-modelling/potts-optimization/runs/2ztw85q1</a>"
      ],
      "text/plain": [
       "<IPython.core.display.HTML object>"
      ]
     },
     "metadata": {},
     "output_type": "display_data"
    },
    {
     "name": "stderr",
     "output_type": "stream",
     "text": [
      "Exception in thread NetStatThr:\n",
      "Traceback (most recent call last):\n",
      "  File \"/home/roman/miniconda3/envs/py38/lib/python3.8/threading.py\", line 932, in _bootstrap_inner\n",
      "    Exception in thread self.run()ChkStopThr\n",
      ":\n",
      "  File \"/home/roman/miniconda3/envs/py38/lib/python3.8/threading.py\", line 870, in run\n",
      "Traceback (most recent call last):\n",
      "  File \"/home/roman/miniconda3/envs/py38/lib/python3.8/threading.py\", line 932, in _bootstrap_inner\n",
      "    self._target(*self._args, **self._kwargs)\n",
      "  File \"/home/roman/miniconda3/envs/py38/lib/python3.8/site-packages/wandb/sdk/wandb_run.py\", line 258, in check_network_status\n",
      "        self.run()self._loop_check_status(\n",
      "\n",
      "  File \"/home/roman/miniconda3/envs/py38/lib/python3.8/threading.py\", line 870, in run\n",
      "  File \"/home/roman/miniconda3/envs/py38/lib/python3.8/site-packages/wandb/sdk/wandb_run.py\", line 214, in _loop_check_status\n",
      "    self._target(*self._args, **self._kwargs)    \n",
      "local_handle = request()  File \"/home/roman/miniconda3/envs/py38/lib/python3.8/site-packages/wandb/sdk/wandb_run.py\", line 276, in check_stop_status\n",
      "\n",
      "  File \"/home/roman/miniconda3/envs/py38/lib/python3.8/site-packages/wandb/sdk/interface/interface.py\", line 795, in deliver_network_status\n",
      "    self._loop_check_status(\n",
      "  File \"/home/roman/miniconda3/envs/py38/lib/python3.8/site-packages/wandb/sdk/wandb_run.py\", line 214, in _loop_check_status\n",
      "        return self._deliver_network_status(status)local_handle = request()\n",
      "\n",
      "  File \"/home/roman/miniconda3/envs/py38/lib/python3.8/site-packages/wandb/sdk/interface/interface_shared.py\", line 601, in _deliver_network_status\n",
      "  File \"/home/roman/miniconda3/envs/py38/lib/python3.8/site-packages/wandb/sdk/interface/interface.py\", line 787, in deliver_stop_status\n",
      "    return self._deliver_record(record)    \n",
      "return self._deliver_stop_status(status)  File \"/home/roman/miniconda3/envs/py38/lib/python3.8/site-packages/wandb/sdk/interface/interface_shared.py\", line 560, in _deliver_record\n",
      "\n",
      "  File \"/home/roman/miniconda3/envs/py38/lib/python3.8/site-packages/wandb/sdk/interface/interface_shared.py\", line 585, in _deliver_stop_status\n",
      "        return self._deliver_record(record)handle = mailbox._deliver_record(record, interface=self)\n",
      "\n",
      "  File \"/home/roman/miniconda3/envs/py38/lib/python3.8/site-packages/wandb/sdk/interface/interface_shared.py\", line 560, in _deliver_record\n",
      "  File \"/home/roman/miniconda3/envs/py38/lib/python3.8/site-packages/wandb/sdk/lib/mailbox.py\", line 455, in _deliver_record\n",
      "        handle = mailbox._deliver_record(record, interface=self)interface._publish(record)\n",
      "\n",
      "  File \"/home/roman/miniconda3/envs/py38/lib/python3.8/site-packages/wandb/sdk/lib/mailbox.py\", line 455, in _deliver_record\n",
      "  File \"/home/roman/miniconda3/envs/py38/lib/python3.8/site-packages/wandb/sdk/interface/interface_sock.py\", line 51, in _publish\n",
      "    interface._publish(record)    \n",
      "self._sock_client.send_record_publish(record)  File \"/home/roman/miniconda3/envs/py38/lib/python3.8/site-packages/wandb/sdk/interface/interface_sock.py\", line 51, in _publish\n",
      "\n",
      "  File \"/home/roman/miniconda3/envs/py38/lib/python3.8/site-packages/wandb/sdk/lib/sock_client.py\", line 221, in send_record_publish\n",
      "    self.send_server_request(server_req)    \n",
      "self._sock_client.send_record_publish(record)  File \"/home/roman/miniconda3/envs/py38/lib/python3.8/site-packages/wandb/sdk/lib/sock_client.py\", line 155, in send_server_request\n",
      "\n",
      "  File \"/home/roman/miniconda3/envs/py38/lib/python3.8/site-packages/wandb/sdk/lib/sock_client.py\", line 221, in send_record_publish\n",
      "        self._send_message(msg)self.send_server_request(server_req)\n",
      "\n",
      "  File \"/home/roman/miniconda3/envs/py38/lib/python3.8/site-packages/wandb/sdk/lib/sock_client.py\", line 152, in _send_message\n",
      "  File \"/home/roman/miniconda3/envs/py38/lib/python3.8/site-packages/wandb/sdk/lib/sock_client.py\", line 155, in send_server_request\n",
      "        self._sendall_with_error_handle(header + data)self._send_message(msg)\n",
      "\n",
      "  File \"/home/roman/miniconda3/envs/py38/lib/python3.8/site-packages/wandb/sdk/lib/sock_client.py\", line 130, in _sendall_with_error_handle\n",
      "  File \"/home/roman/miniconda3/envs/py38/lib/python3.8/site-packages/wandb/sdk/lib/sock_client.py\", line 152, in _send_message\n",
      "    sent = self._sock.send(data)    \n",
      "self._sendall_with_error_handle(header + data)BrokenPipeError\n",
      ":   File \"/home/roman/miniconda3/envs/py38/lib/python3.8/site-packages/wandb/sdk/lib/sock_client.py\", line 130, in _sendall_with_error_handle\n",
      "[Errno 32] Broken pipe    \n",
      "sent = self._sock.send(data)\n",
      "BrokenPipeError: [Errno 32] Broken pipe\n"
     ]
    },
    {
     "name": "stdout",
     "output_type": "stream",
     "text": [
      "SEED = 2\n",
      "Sample size = 5 x 5 x 1\n",
      "\n",
      "GN_CM = 447.39\n",
      "TARGETVOLUME_CM = 11.68\n",
      "INELASTICITY_CM = 566.84\n",
      "DETACH_CM = 921.80\n",
      "\n",
      "GN_FB = 233.76\n",
      "TARGETVOLUME_FB = 18.75\n",
      "INELASTICITY_FB = 14.24\n",
      "DETACH_FB = 53.21\n",
      "\n",
      "JMDMD = 0.000\n",
      "JCMMD = 1573.567\n",
      "JFBMD = 560.270\n",
      "\n",
      "JCMCM = 1545.957\n",
      "JFBFB = 10000.000\n",
      "JFBCM = 10000.000\n",
      "\n",
      "UNLEASH_CM = 743.66\n",
      "UNLEASH_FB = 66.93\n",
      "\n",
      "LMAX_CM = 26.85 px\n",
      "LMAX_FB = 26.02 px\n",
      "\n",
      "MAX_FOCALS_CM = 14.00\n",
      "MAX_FOCALS_FB = 9.00\n",
      "\n",
      "text can print\n",
      "\n",
      "\n",
      "START INCREMENT 0\n",
      "Acceptance rate 0.1088\n",
      "START INCREMENT 10\n",
      "Acceptance rate 0.0809\n",
      "START INCREMENT 20\n",
      "Acceptance rate 0.1067\n",
      "START INCREMENT 30\n",
      "Acceptance rate 0.1085\n",
      "START INCREMENT 40\n",
      "Acceptance rate 0.1096\n",
      "START INCREMENT 50\n",
      "Acceptance rate 0.1174\n",
      "START INCREMENT 60\n",
      "Acceptance rate 0.1229\n",
      "START INCREMENT 70\n",
      "Acceptance rate 0.0859\n",
      "START INCREMENT 80\n",
      "Acceptance rate 0.0247\n",
      "START INCREMENT 90\n",
      "Acceptance rate 0.0056\n",
      "START INCREMENT 100\n",
      "Acceptance rate 0.0000\n",
      "SIMULATION FINISHED!\n",
      "\n",
      "START CHANNEL DISTRIBUTION 0\n",
      "Acceptance rate 0.0000\n",
      "START CHANNEL DISTRIBUTION 100\n",
      "Acceptance rate 0.0000\n",
      "SIMULATION FINISHED!\n",
      "Took 19s\n",
      "\n",
      "massives done!\n"
     ]
    },
    {
     "data": {
      "text/html": [
       "Waiting for W&B process to finish... <strong style=\"color:green\">(success).</strong>"
      ],
      "text/plain": [
       "<IPython.core.display.HTML object>"
      ]
     },
     "metadata": {},
     "output_type": "display_data"
    },
    {
     "data": {
      "text/html": [
       "<style>\n",
       "    table.wandb td:nth-child(1) { padding: 0 10px; text-align: left ; width: auto;} td:nth-child(2) {text-align: left ; width: 100%}\n",
       "    .wandb-row { display: flex; flex-direction: row; flex-wrap: wrap; justify-content: flex-start; width: 100% }\n",
       "    .wandb-col { display: flex; flex-direction: column; flex-basis: 100%; flex: 1; padding: 10px; }\n",
       "    </style>\n",
       "<div class=\"wandb-row\"><div class=\"wandb-col\"><h3>Run history:</h3><br/><table class=\"wandb\"><tr><td>area_abs</td><td>▁</td></tr><tr><td>area_entropy</td><td>▁</td></tr><tr><td>elongation_entropy</td><td>▁</td></tr><tr><td>mean</td><td>▁</td></tr></table><br/></div><div class=\"wandb-col\"><h3>Run summary:</h3><br/><table class=\"wandb\"><tr><td>area_abs</td><td>21.8</td></tr><tr><td>area_entropy</td><td>0.79388</td></tr><tr><td>elongation_entropy</td><td>0.28238</td></tr><tr><td>mean</td><td>0.79388</td></tr></table><br/></div></div>"
      ],
      "text/plain": [
       "<IPython.core.display.HTML object>"
      ]
     },
     "metadata": {},
     "output_type": "display_data"
    },
    {
     "data": {
      "text/html": [
       " View run <strong style=\"color:#cdcd00\">trim-sweep-1</strong> at: <a href='https://wandb.ai/potts-modelling/potts-optimization/runs/2ztw85q1' target=\"_blank\">https://wandb.ai/potts-modelling/potts-optimization/runs/2ztw85q1</a><br/>Synced 6 W&B file(s), 1 media file(s), 0 artifact file(s) and 0 other file(s)"
      ],
      "text/plain": [
       "<IPython.core.display.HTML object>"
      ]
     },
     "metadata": {},
     "output_type": "display_data"
    },
    {
     "data": {
      "text/html": [
       "Find logs at: <code>./wandb/run-20231121_144543-2ztw85q1/logs</code>"
      ],
      "text/plain": [
       "<IPython.core.display.HTML object>"
      ]
     },
     "metadata": {},
     "output_type": "display_data"
    },
    {
     "name": "stderr",
     "output_type": "stream",
     "text": [
      "\u001b[34m\u001b[1mwandb\u001b[0m: Agent Starting Run: sabrvvlk with config:\n",
      "\u001b[34m\u001b[1mwandb\u001b[0m: \tDETACH_CM: 222.35391303732035\n",
      "\u001b[34m\u001b[1mwandb\u001b[0m: \tGN_CM: 177.13491144147187\n",
      "\u001b[34m\u001b[1mwandb\u001b[0m: \tINELASTICITY_CM: 137.70366749512618\n",
      "\u001b[34m\u001b[1mwandb\u001b[0m: \tJCMCM: 3.3936867086806717\n",
      "\u001b[34m\u001b[1mwandb\u001b[0m: \tJCMMD: 1.806332333075529\n",
      "\u001b[34m\u001b[1mwandb\u001b[0m: \tLMAX_CM: 55.65695560694188\n",
      "\u001b[34m\u001b[1mwandb\u001b[0m: \tMAX_FOCALS_CM: 7\n",
      "\u001b[34m\u001b[1mwandb\u001b[0m: \tTARGETVOLUME_CM: 9357.143762004942\n",
      "\u001b[34m\u001b[1mwandb\u001b[0m: \tUNLEASH_CM: 354.1265926595336\n"
     ]
    },
    {
     "data": {
      "text/html": [
       "wandb version 0.16.0 is available!  To upgrade, please run:\n",
       " $ pip install wandb --upgrade"
      ],
      "text/plain": [
       "<IPython.core.display.HTML object>"
      ]
     },
     "metadata": {},
     "output_type": "display_data"
    },
    {
     "data": {
      "text/html": [
       "Tracking run with wandb version 0.14.0"
      ],
      "text/plain": [
       "<IPython.core.display.HTML object>"
      ]
     },
     "metadata": {},
     "output_type": "display_data"
    },
    {
     "data": {
      "text/html": [
       "Run data is saved locally in <code>/home/roman/potts_random/potts_3d_new/wandb/run-20231121_144620-sabrvvlk</code>"
      ],
      "text/plain": [
       "<IPython.core.display.HTML object>"
      ]
     },
     "metadata": {},
     "output_type": "display_data"
    },
    {
     "data": {
      "text/html": [
       "Syncing run <strong><a href='https://wandb.ai/potts-modelling/potts-optimization/runs/sabrvvlk' target=\"_blank\">fiery-sweep-2</a></strong> to <a href='https://wandb.ai/potts-modelling/potts-optimization' target=\"_blank\">Weights & Biases</a> (<a href='https://wandb.me/run' target=\"_blank\">docs</a>)<br/>Sweep page: <a href='https://wandb.ai/potts-modelling/potts-optimization/sweeps/dsupzqfy' target=\"_blank\">https://wandb.ai/potts-modelling/potts-optimization/sweeps/dsupzqfy</a>"
      ],
      "text/plain": [
       "<IPython.core.display.HTML object>"
      ]
     },
     "metadata": {},
     "output_type": "display_data"
    },
    {
     "data": {
      "text/html": [
       " View project at <a href='https://wandb.ai/potts-modelling/potts-optimization' target=\"_blank\">https://wandb.ai/potts-modelling/potts-optimization</a>"
      ],
      "text/plain": [
       "<IPython.core.display.HTML object>"
      ]
     },
     "metadata": {},
     "output_type": "display_data"
    },
    {
     "data": {
      "text/html": [
       " View sweep at <a href='https://wandb.ai/potts-modelling/potts-optimization/sweeps/dsupzqfy' target=\"_blank\">https://wandb.ai/potts-modelling/potts-optimization/sweeps/dsupzqfy</a>"
      ],
      "text/plain": [
       "<IPython.core.display.HTML object>"
      ]
     },
     "metadata": {},
     "output_type": "display_data"
    },
    {
     "data": {
      "text/html": [
       " View run at <a href='https://wandb.ai/potts-modelling/potts-optimization/runs/sabrvvlk' target=\"_blank\">https://wandb.ai/potts-modelling/potts-optimization/runs/sabrvvlk</a>"
      ],
      "text/plain": [
       "<IPython.core.display.HTML object>"
      ]
     },
     "metadata": {},
     "output_type": "display_data"
    },
    {
     "data": {
      "text/html": [
       "Waiting for W&B process to finish... <strong style=\"color:green\">(success).</strong>"
      ],
      "text/plain": [
       "<IPython.core.display.HTML object>"
      ]
     },
     "metadata": {},
     "output_type": "display_data"
    },
    {
     "data": {
      "text/html": [
       "<style>\n",
       "    table.wandb td:nth-child(1) { padding: 0 10px; text-align: left ; width: auto;} td:nth-child(2) {text-align: left ; width: 100%}\n",
       "    .wandb-row { display: flex; flex-direction: row; flex-wrap: wrap; justify-content: flex-start; width: 100% }\n",
       "    .wandb-col { display: flex; flex-direction: column; flex-basis: 100%; flex: 1; padding: 10px; }\n",
       "    </style>\n",
       "<div class=\"wandb-row\"><div class=\"wandb-col\"><h3>Run history:</h3><br/><table class=\"wandb\"><tr><td>area_abs</td><td>▁</td></tr><tr><td>area_entropy</td><td>▁</td></tr><tr><td>elongation_entropy</td><td>▁</td></tr><tr><td>mean</td><td>▁</td></tr></table><br/></div><div class=\"wandb-col\"><h3>Run summary:</h3><br/><table class=\"wandb\"><tr><td>area_abs</td><td>22.76</td></tr><tr><td>area_entropy</td><td>0.78535</td></tr><tr><td>elongation_entropy</td><td>0.32915</td></tr><tr><td>mean</td><td>0.78535</td></tr></table><br/></div></div>"
      ],
      "text/plain": [
       "<IPython.core.display.HTML object>"
      ]
     },
     "metadata": {},
     "output_type": "display_data"
    },
    {
     "data": {
      "text/html": [
       " View run <strong style=\"color:#cdcd00\">fiery-sweep-2</strong> at: <a href='https://wandb.ai/potts-modelling/potts-optimization/runs/sabrvvlk' target=\"_blank\">https://wandb.ai/potts-modelling/potts-optimization/runs/sabrvvlk</a><br/>Synced 5 W&B file(s), 1 media file(s), 0 artifact file(s) and 0 other file(s)"
      ],
      "text/plain": [
       "<IPython.core.display.HTML object>"
      ]
     },
     "metadata": {},
     "output_type": "display_data"
    },
    {
     "data": {
      "text/html": [
       "Find logs at: <code>./wandb/run-20231121_144620-sabrvvlk/logs</code>"
      ],
      "text/plain": [
       "<IPython.core.display.HTML object>"
      ]
     },
     "metadata": {},
     "output_type": "display_data"
    },
    {
     "name": "stderr",
     "output_type": "stream",
     "text": [
      "\u001b[34m\u001b[1mwandb\u001b[0m: Agent Starting Run: narv7y2g with config:\n",
      "\u001b[34m\u001b[1mwandb\u001b[0m: \tDETACH_CM: 437.8066748751941\n",
      "\u001b[34m\u001b[1mwandb\u001b[0m: \tGN_CM: 180.03832163742683\n",
      "\u001b[34m\u001b[1mwandb\u001b[0m: \tINELASTICITY_CM: 267.03023302319355\n",
      "\u001b[34m\u001b[1mwandb\u001b[0m: \tJCMCM: 0.6558436889492965\n",
      "\u001b[34m\u001b[1mwandb\u001b[0m: \tJCMMD: 3.545459839705621\n",
      "\u001b[34m\u001b[1mwandb\u001b[0m: \tLMAX_CM: 56.28790626236783\n",
      "\u001b[34m\u001b[1mwandb\u001b[0m: \tMAX_FOCALS_CM: 8\n",
      "\u001b[34m\u001b[1mwandb\u001b[0m: \tTARGETVOLUME_CM: 7242.756614244152\n",
      "\u001b[34m\u001b[1mwandb\u001b[0m: \tUNLEASH_CM: 580.3665417122913\n"
     ]
    },
    {
     "data": {
      "text/html": [
       "wandb version 0.16.0 is available!  To upgrade, please run:\n",
       " $ pip install wandb --upgrade"
      ],
      "text/plain": [
       "<IPython.core.display.HTML object>"
      ]
     },
     "metadata": {},
     "output_type": "display_data"
    },
    {
     "data": {
      "text/html": [
       "Tracking run with wandb version 0.14.0"
      ],
      "text/plain": [
       "<IPython.core.display.HTML object>"
      ]
     },
     "metadata": {},
     "output_type": "display_data"
    },
    {
     "data": {
      "text/html": [
       "Run data is saved locally in <code>/home/roman/potts_random/potts_3d_new/wandb/run-20231121_144651-narv7y2g</code>"
      ],
      "text/plain": [
       "<IPython.core.display.HTML object>"
      ]
     },
     "metadata": {},
     "output_type": "display_data"
    },
    {
     "data": {
      "text/html": [
       "Syncing run <strong><a href='https://wandb.ai/potts-modelling/potts-optimization/runs/narv7y2g' target=\"_blank\">lunar-sweep-3</a></strong> to <a href='https://wandb.ai/potts-modelling/potts-optimization' target=\"_blank\">Weights & Biases</a> (<a href='https://wandb.me/run' target=\"_blank\">docs</a>)<br/>Sweep page: <a href='https://wandb.ai/potts-modelling/potts-optimization/sweeps/dsupzqfy' target=\"_blank\">https://wandb.ai/potts-modelling/potts-optimization/sweeps/dsupzqfy</a>"
      ],
      "text/plain": [
       "<IPython.core.display.HTML object>"
      ]
     },
     "metadata": {},
     "output_type": "display_data"
    },
    {
     "data": {
      "text/html": [
       " View project at <a href='https://wandb.ai/potts-modelling/potts-optimization' target=\"_blank\">https://wandb.ai/potts-modelling/potts-optimization</a>"
      ],
      "text/plain": [
       "<IPython.core.display.HTML object>"
      ]
     },
     "metadata": {},
     "output_type": "display_data"
    },
    {
     "data": {
      "text/html": [
       " View sweep at <a href='https://wandb.ai/potts-modelling/potts-optimization/sweeps/dsupzqfy' target=\"_blank\">https://wandb.ai/potts-modelling/potts-optimization/sweeps/dsupzqfy</a>"
      ],
      "text/plain": [
       "<IPython.core.display.HTML object>"
      ]
     },
     "metadata": {},
     "output_type": "display_data"
    },
    {
     "data": {
      "text/html": [
       " View run at <a href='https://wandb.ai/potts-modelling/potts-optimization/runs/narv7y2g' target=\"_blank\">https://wandb.ai/potts-modelling/potts-optimization/runs/narv7y2g</a>"
      ],
      "text/plain": [
       "<IPython.core.display.HTML object>"
      ]
     },
     "metadata": {},
     "output_type": "display_data"
    },
    {
     "data": {
      "text/html": [
       "Waiting for W&B process to finish... <strong style=\"color:green\">(success).</strong>"
      ],
      "text/plain": [
       "<IPython.core.display.HTML object>"
      ]
     },
     "metadata": {},
     "output_type": "display_data"
    },
    {
     "data": {
      "text/html": [
       "<style>\n",
       "    table.wandb td:nth-child(1) { padding: 0 10px; text-align: left ; width: auto;} td:nth-child(2) {text-align: left ; width: 100%}\n",
       "    .wandb-row { display: flex; flex-direction: row; flex-wrap: wrap; justify-content: flex-start; width: 100% }\n",
       "    .wandb-col { display: flex; flex-direction: column; flex-basis: 100%; flex: 1; padding: 10px; }\n",
       "    </style>\n",
       "<div class=\"wandb-row\"><div class=\"wandb-col\"><h3>Run history:</h3><br/><table class=\"wandb\"><tr><td>area_abs</td><td>▁</td></tr><tr><td>area_entropy</td><td>▁</td></tr><tr><td>elongation_entropy</td><td>▁</td></tr><tr><td>mean</td><td>▁</td></tr></table><br/></div><div class=\"wandb-col\"><h3>Run summary:</h3><br/><table class=\"wandb\"><tr><td>area_abs</td><td>17.0</td></tr><tr><td>area_entropy</td><td>0.83723</td></tr><tr><td>elongation_entropy</td><td>0.26572</td></tr><tr><td>mean</td><td>0.83723</td></tr></table><br/></div></div>"
      ],
      "text/plain": [
       "<IPython.core.display.HTML object>"
      ]
     },
     "metadata": {},
     "output_type": "display_data"
    },
    {
     "data": {
      "text/html": [
       " View run <strong style=\"color:#cdcd00\">lunar-sweep-3</strong> at: <a href='https://wandb.ai/potts-modelling/potts-optimization/runs/narv7y2g' target=\"_blank\">https://wandb.ai/potts-modelling/potts-optimization/runs/narv7y2g</a><br/>Synced 5 W&B file(s), 1 media file(s), 0 artifact file(s) and 0 other file(s)"
      ],
      "text/plain": [
       "<IPython.core.display.HTML object>"
      ]
     },
     "metadata": {},
     "output_type": "display_data"
    },
    {
     "data": {
      "text/html": [
       "Find logs at: <code>./wandb/run-20231121_144651-narv7y2g/logs</code>"
      ],
      "text/plain": [
       "<IPython.core.display.HTML object>"
      ]
     },
     "metadata": {},
     "output_type": "display_data"
    },
    {
     "name": "stderr",
     "output_type": "stream",
     "text": [
      "\u001b[34m\u001b[1mwandb\u001b[0m: Agent Starting Run: 97yf8tk3 with config:\n",
      "\u001b[34m\u001b[1mwandb\u001b[0m: \tDETACH_CM: 450.9134229681604\n",
      "\u001b[34m\u001b[1mwandb\u001b[0m: \tGN_CM: 13.309874751176627\n",
      "\u001b[34m\u001b[1mwandb\u001b[0m: \tINELASTICITY_CM: 976.3363608110384\n",
      "\u001b[34m\u001b[1mwandb\u001b[0m: \tJCMCM: 3.5103801191920843\n",
      "\u001b[34m\u001b[1mwandb\u001b[0m: \tJCMMD: 2.9111789851164502\n",
      "\u001b[34m\u001b[1mwandb\u001b[0m: \tLMAX_CM: 103.36767009618356\n",
      "\u001b[34m\u001b[1mwandb\u001b[0m: \tMAX_FOCALS_CM: 29\n",
      "\u001b[34m\u001b[1mwandb\u001b[0m: \tTARGETVOLUME_CM: 8874.355879226054\n",
      "\u001b[34m\u001b[1mwandb\u001b[0m: \tUNLEASH_CM: 667.7068745548953\n"
     ]
    },
    {
     "data": {
      "text/html": [
       "wandb version 0.16.0 is available!  To upgrade, please run:\n",
       " $ pip install wandb --upgrade"
      ],
      "text/plain": [
       "<IPython.core.display.HTML object>"
      ]
     },
     "metadata": {},
     "output_type": "display_data"
    },
    {
     "data": {
      "text/html": [
       "Tracking run with wandb version 0.14.0"
      ],
      "text/plain": [
       "<IPython.core.display.HTML object>"
      ]
     },
     "metadata": {},
     "output_type": "display_data"
    },
    {
     "data": {
      "text/html": [
       "Run data is saved locally in <code>/home/roman/potts_random/potts_3d_new/wandb/run-20231121_144735-97yf8tk3</code>"
      ],
      "text/plain": [
       "<IPython.core.display.HTML object>"
      ]
     },
     "metadata": {},
     "output_type": "display_data"
    },
    {
     "data": {
      "text/html": [
       "Syncing run <strong><a href='https://wandb.ai/potts-modelling/potts-optimization/runs/97yf8tk3' target=\"_blank\">graceful-sweep-4</a></strong> to <a href='https://wandb.ai/potts-modelling/potts-optimization' target=\"_blank\">Weights & Biases</a> (<a href='https://wandb.me/run' target=\"_blank\">docs</a>)<br/>Sweep page: <a href='https://wandb.ai/potts-modelling/potts-optimization/sweeps/dsupzqfy' target=\"_blank\">https://wandb.ai/potts-modelling/potts-optimization/sweeps/dsupzqfy</a>"
      ],
      "text/plain": [
       "<IPython.core.display.HTML object>"
      ]
     },
     "metadata": {},
     "output_type": "display_data"
    },
    {
     "data": {
      "text/html": [
       " View project at <a href='https://wandb.ai/potts-modelling/potts-optimization' target=\"_blank\">https://wandb.ai/potts-modelling/potts-optimization</a>"
      ],
      "text/plain": [
       "<IPython.core.display.HTML object>"
      ]
     },
     "metadata": {},
     "output_type": "display_data"
    },
    {
     "data": {
      "text/html": [
       " View sweep at <a href='https://wandb.ai/potts-modelling/potts-optimization/sweeps/dsupzqfy' target=\"_blank\">https://wandb.ai/potts-modelling/potts-optimization/sweeps/dsupzqfy</a>"
      ],
      "text/plain": [
       "<IPython.core.display.HTML object>"
      ]
     },
     "metadata": {},
     "output_type": "display_data"
    },
    {
     "data": {
      "text/html": [
       " View run at <a href='https://wandb.ai/potts-modelling/potts-optimization/runs/97yf8tk3' target=\"_blank\">https://wandb.ai/potts-modelling/potts-optimization/runs/97yf8tk3</a>"
      ],
      "text/plain": [
       "<IPython.core.display.HTML object>"
      ]
     },
     "metadata": {},
     "output_type": "display_data"
    },
    {
     "data": {
      "text/html": [
       "Waiting for W&B process to finish... <strong style=\"color:green\">(success).</strong>"
      ],
      "text/plain": [
       "<IPython.core.display.HTML object>"
      ]
     },
     "metadata": {},
     "output_type": "display_data"
    },
    {
     "data": {
      "text/html": [
       "<style>\n",
       "    table.wandb td:nth-child(1) { padding: 0 10px; text-align: left ; width: auto;} td:nth-child(2) {text-align: left ; width: 100%}\n",
       "    .wandb-row { display: flex; flex-direction: row; flex-wrap: wrap; justify-content: flex-start; width: 100% }\n",
       "    .wandb-col { display: flex; flex-direction: column; flex-basis: 100%; flex: 1; padding: 10px; }\n",
       "    </style>\n",
       "<div class=\"wandb-row\"><div class=\"wandb-col\"><h3>Run history:</h3><br/><table class=\"wandb\"><tr><td>area_abs</td><td>▁</td></tr><tr><td>area_entropy</td><td>▁</td></tr><tr><td>elongation_entropy</td><td>▁</td></tr><tr><td>mean</td><td>▁</td></tr></table><br/></div><div class=\"wandb-col\"><h3>Run summary:</h3><br/><table class=\"wandb\"><tr><td>area_abs</td><td>23.6</td></tr><tr><td>area_entropy</td><td>0.77792</td></tr><tr><td>elongation_entropy</td><td>0.25754</td></tr><tr><td>mean</td><td>0.77792</td></tr></table><br/></div></div>"
      ],
      "text/plain": [
       "<IPython.core.display.HTML object>"
      ]
     },
     "metadata": {},
     "output_type": "display_data"
    },
    {
     "data": {
      "text/html": [
       " View run <strong style=\"color:#cdcd00\">graceful-sweep-4</strong> at: <a href='https://wandb.ai/potts-modelling/potts-optimization/runs/97yf8tk3' target=\"_blank\">https://wandb.ai/potts-modelling/potts-optimization/runs/97yf8tk3</a><br/>Synced 5 W&B file(s), 1 media file(s), 0 artifact file(s) and 0 other file(s)"
      ],
      "text/plain": [
       "<IPython.core.display.HTML object>"
      ]
     },
     "metadata": {},
     "output_type": "display_data"
    },
    {
     "data": {
      "text/html": [
       "Find logs at: <code>./wandb/run-20231121_144735-97yf8tk3/logs</code>"
      ],
      "text/plain": [
       "<IPython.core.display.HTML object>"
      ]
     },
     "metadata": {},
     "output_type": "display_data"
    },
    {
     "name": "stderr",
     "output_type": "stream",
     "text": [
      "\u001b[34m\u001b[1mwandb\u001b[0m: Agent Starting Run: w072nc5t with config:\n",
      "\u001b[34m\u001b[1mwandb\u001b[0m: \tDETACH_CM: 474.694121446871\n",
      "\u001b[34m\u001b[1mwandb\u001b[0m: \tGN_CM: 98.71746990378612\n",
      "\u001b[34m\u001b[1mwandb\u001b[0m: \tINELASTICITY_CM: 155.41020207170936\n",
      "\u001b[34m\u001b[1mwandb\u001b[0m: \tJCMCM: 3.2206301882299173\n",
      "\u001b[34m\u001b[1mwandb\u001b[0m: \tJCMMD: 3.6338342450481766\n",
      "\u001b[34m\u001b[1mwandb\u001b[0m: \tLMAX_CM: 134.64744116714996\n",
      "\u001b[34m\u001b[1mwandb\u001b[0m: \tMAX_FOCALS_CM: 26\n",
      "\u001b[34m\u001b[1mwandb\u001b[0m: \tTARGETVOLUME_CM: 4483.945060123286\n",
      "\u001b[34m\u001b[1mwandb\u001b[0m: \tUNLEASH_CM: 409.1972966729238\n"
     ]
    },
    {
     "data": {
      "text/html": [
       "wandb version 0.16.0 is available!  To upgrade, please run:\n",
       " $ pip install wandb --upgrade"
      ],
      "text/plain": [
       "<IPython.core.display.HTML object>"
      ]
     },
     "metadata": {},
     "output_type": "display_data"
    },
    {
     "data": {
      "text/html": [
       "Tracking run with wandb version 0.14.0"
      ],
      "text/plain": [
       "<IPython.core.display.HTML object>"
      ]
     },
     "metadata": {},
     "output_type": "display_data"
    },
    {
     "data": {
      "text/html": [
       "Run data is saved locally in <code>/home/roman/potts_random/potts_3d_new/wandb/run-20231121_144810-w072nc5t</code>"
      ],
      "text/plain": [
       "<IPython.core.display.HTML object>"
      ]
     },
     "metadata": {},
     "output_type": "display_data"
    },
    {
     "data": {
      "text/html": [
       "Syncing run <strong><a href='https://wandb.ai/potts-modelling/potts-optimization/runs/w072nc5t' target=\"_blank\">autumn-sweep-5</a></strong> to <a href='https://wandb.ai/potts-modelling/potts-optimization' target=\"_blank\">Weights & Biases</a> (<a href='https://wandb.me/run' target=\"_blank\">docs</a>)<br/>Sweep page: <a href='https://wandb.ai/potts-modelling/potts-optimization/sweeps/dsupzqfy' target=\"_blank\">https://wandb.ai/potts-modelling/potts-optimization/sweeps/dsupzqfy</a>"
      ],
      "text/plain": [
       "<IPython.core.display.HTML object>"
      ]
     },
     "metadata": {},
     "output_type": "display_data"
    },
    {
     "data": {
      "text/html": [
       " View project at <a href='https://wandb.ai/potts-modelling/potts-optimization' target=\"_blank\">https://wandb.ai/potts-modelling/potts-optimization</a>"
      ],
      "text/plain": [
       "<IPython.core.display.HTML object>"
      ]
     },
     "metadata": {},
     "output_type": "display_data"
    },
    {
     "data": {
      "text/html": [
       " View sweep at <a href='https://wandb.ai/potts-modelling/potts-optimization/sweeps/dsupzqfy' target=\"_blank\">https://wandb.ai/potts-modelling/potts-optimization/sweeps/dsupzqfy</a>"
      ],
      "text/plain": [
       "<IPython.core.display.HTML object>"
      ]
     },
     "metadata": {},
     "output_type": "display_data"
    },
    {
     "data": {
      "text/html": [
       " View run at <a href='https://wandb.ai/potts-modelling/potts-optimization/runs/w072nc5t' target=\"_blank\">https://wandb.ai/potts-modelling/potts-optimization/runs/w072nc5t</a>"
      ],
      "text/plain": [
       "<IPython.core.display.HTML object>"
      ]
     },
     "metadata": {},
     "output_type": "display_data"
    },
    {
     "name": "stdout",
     "output_type": "stream",
     "text": [
      "SEED = 2\n",
      "Sample size = 5 x 5 x 1\n",
      "\n",
      "GN_CM = 177.13\n",
      "TARGETVOLUME_CM = 58.48\n",
      "INELASTICITY_CM = 137.70\n",
      "DETACH_CM = 222.35\n",
      "\n",
      "GN_FB = 233.76\n",
      "TARGETVOLUME_FB = 18.75\n",
      "INELASTICITY_FB = 14.24\n",
      "DETACH_FB = 53.21\n",
      "\n",
      "JMDMD = 0.000\n",
      "JCMMD = 722.533\n",
      "JFBMD = 560.270\n",
      "\n",
      "JCMCM = 1357.475\n",
      "JFBFB = 10000.000\n",
      "JFBCM = 10000.000\n",
      "\n",
      "UNLEASH_CM = 354.13\n",
      "UNLEASH_FB = 66.93\n",
      "\n",
      "LMAX_CM = 55.66 px\n",
      "LMAX_FB = 26.02 px\n",
      "\n",
      "MAX_FOCALS_CM = 7.00\n",
      "MAX_FOCALS_FB = 9.00\n",
      "\n",
      "text can print\n",
      "\n",
      "\n",
      "START INCREMENT 0\n",
      "Acceptance rate 0.0945\n",
      "START INCREMENT 10\n",
      "Acceptance rate 0.0971\n",
      "START INCREMENT 20\n",
      "Acceptance rate 0.1366\n",
      "START INCREMENT 30\n",
      "Acceptance rate 0.1512\n",
      "START INCREMENT 40\n",
      "Acceptance rate 0.1780\n",
      "START INCREMENT 50\n",
      "Acceptance rate 0.1492\n",
      "START INCREMENT 60\n",
      "Acceptance rate 0.0082\n",
      "START INCREMENT 70\n",
      "Acceptance rate 0.0000\n",
      "START INCREMENT 80\n",
      "Acceptance rate 0.0000\n",
      "START INCREMENT 90\n",
      "Acceptance rate 0.0000\n",
      "START INCREMENT 100\n",
      "Acceptance rate 0.0000\n",
      "SIMULATION FINISHED!\n",
      "\n",
      "START CHANNEL DISTRIBUTION 0\n",
      "Acceptance rate 0.0000\n",
      "START CHANNEL DISTRIBUTION 100\n",
      "Acceptance rate 0.0000\n",
      "SIMULATION FINISHED!\n",
      "Took 18s\n",
      "\n",
      "massives done!\n",
      "SEED = 2\n",
      "Sample size = 5 x 5 x 1\n",
      "\n",
      "GN_CM = 180.04\n",
      "TARGETVOLUME_CM = 45.27\n",
      "INELASTICITY_CM = 267.03\n",
      "DETACH_CM = 437.81\n",
      "\n",
      "GN_FB = 233.76\n",
      "TARGETVOLUME_FB = 18.75\n",
      "INELASTICITY_FB = 14.24\n",
      "DETACH_FB = 53.21\n",
      "\n",
      "JMDMD = 0.000\n",
      "JCMMD = 1418.184\n",
      "JFBMD = 560.270\n",
      "\n",
      "JCMCM = 262.337\n",
      "JFBFB = 10000.000\n",
      "JFBCM = 10000.000\n",
      "\n",
      "UNLEASH_CM = 580.37\n",
      "UNLEASH_FB = 66.93\n",
      "\n",
      "LMAX_CM = 56.29 px\n",
      "LMAX_FB = 26.02 px\n",
      "\n",
      "MAX_FOCALS_CM = 8.00\n",
      "MAX_FOCALS_FB = 9.00\n",
      "\n",
      "text can print\n",
      "\n",
      "\n",
      "START INCREMENT 0\n",
      "Acceptance rate 0.1142\n",
      "START INCREMENT 10\n",
      "Acceptance rate 0.0762\n",
      "START INCREMENT 20\n",
      "Acceptance rate 0.0910\n",
      "START INCREMENT 30\n",
      "Acceptance rate 0.0968\n",
      "START INCREMENT 40\n",
      "Acceptance rate 0.1035\n",
      "START INCREMENT 50\n",
      "Acceptance rate 0.1156\n",
      "START INCREMENT 60\n",
      "Acceptance rate 0.1200\n",
      "START INCREMENT 70\n",
      "Acceptance rate 0.1175\n",
      "START INCREMENT 80\n",
      "Acceptance rate 0.0837\n",
      "START INCREMENT 90\n",
      "Acceptance rate 0.0577\n",
      "START INCREMENT 100\n",
      "Acceptance rate 0.0351\n",
      "START INCREMENT 110\n",
      "Acceptance rate 0.0251\n",
      "START INCREMENT 120\n",
      "Acceptance rate 0.0164\n",
      "START INCREMENT 130\n",
      "Acceptance rate 0.0049\n",
      "START INCREMENT 140\n",
      "Acceptance rate 0.0024\n",
      "START INCREMENT 150\n",
      "Acceptance rate 0.0064\n",
      "START INCREMENT 160\n",
      "Acceptance rate 0.0054\n",
      "START INCREMENT 170\n",
      "Acceptance rate 0.0030\n",
      "START INCREMENT 180\n",
      "Acceptance rate 0.0030\n",
      "START INCREMENT 190\n",
      "Acceptance rate 0.0023\n",
      "START INCREMENT 200\n",
      "Acceptance rate 0.0006\n",
      "START INCREMENT 210\n",
      "Acceptance rate 0.0023\n",
      "SIMULATION FINISHED!\n",
      "\n",
      "START CHANNEL DISTRIBUTION 0\n",
      "Acceptance rate 0.0000\n",
      "START CHANNEL DISTRIBUTION 100\n",
      "Acceptance rate 0.0000\n",
      "SIMULATION FINISHED!\n",
      "Took 31s\n",
      "\n",
      "massives done!\n",
      "SEED = 2\n",
      "Sample size = 5 x 5 x 1\n",
      "\n",
      "GN_CM = 13.31\n",
      "TARGETVOLUME_CM = 55.46\n",
      "INELASTICITY_CM = 976.34\n",
      "DETACH_CM = 450.91\n",
      "\n",
      "GN_FB = 233.76\n",
      "TARGETVOLUME_FB = 18.75\n",
      "INELASTICITY_FB = 14.24\n",
      "DETACH_FB = 53.21\n",
      "\n",
      "JMDMD = 0.000\n",
      "JCMMD = 1164.472\n",
      "JFBMD = 560.270\n",
      "\n",
      "JCMCM = 1404.152\n",
      "JFBFB = 10000.000\n",
      "JFBCM = 10000.000\n",
      "\n",
      "UNLEASH_CM = 667.71\n",
      "UNLEASH_FB = 66.93\n",
      "\n",
      "LMAX_CM = 103.37 px\n",
      "LMAX_FB = 26.02 px\n",
      "\n",
      "MAX_FOCALS_CM = 29.00\n",
      "MAX_FOCALS_FB = 9.00\n",
      "\n",
      "text can print\n",
      "\n",
      "\n",
      "START INCREMENT 0\n",
      "Acceptance rate 0.0955\n",
      "START INCREMENT 10\n",
      "Acceptance rate 0.0723\n",
      "START INCREMENT 20\n",
      "Acceptance rate 0.0882\n",
      "START INCREMENT 30\n",
      "Acceptance rate 0.1060\n",
      "START INCREMENT 40\n",
      "Acceptance rate 0.1052\n",
      "START INCREMENT 50\n",
      "Acceptance rate 0.1065\n",
      "START INCREMENT 60\n",
      "Acceptance rate 0.1131\n",
      "START INCREMENT 70\n",
      "Acceptance rate 0.0978\n",
      "START INCREMENT 80\n",
      "Acceptance rate 0.0381\n",
      "START INCREMENT 90\n",
      "Acceptance rate 0.0096\n",
      "START INCREMENT 100\n",
      "Acceptance rate 0.0035\n",
      "START INCREMENT 110\n",
      "Acceptance rate 0.0004\n",
      "SIMULATION FINISHED!\n",
      "\n",
      "START CHANNEL DISTRIBUTION 0\n",
      "Acceptance rate 0.0000\n",
      "START CHANNEL DISTRIBUTION 100\n",
      "Acceptance rate 0.0000\n",
      "SIMULATION FINISHED!\n",
      "Took 21s\n",
      "\n",
      "massives done!\n",
      "SEED = 2\n",
      "Sample size = 5 x 5 x 1\n",
      "\n",
      "GN_CM = 98.72\n",
      "TARGETVOLUME_CM = 28.02\n",
      "INELASTICITY_CM = 155.41\n",
      "DETACH_CM = 474.69\n",
      "\n",
      "GN_FB = 233.76\n",
      "TARGETVOLUME_FB = 18.75\n",
      "INELASTICITY_FB = 14.24\n",
      "DETACH_FB = 53.21\n",
      "\n",
      "JMDMD = 0.000\n",
      "JCMMD = 1453.534\n",
      "JFBMD = 560.270\n",
      "\n",
      "JCMCM = 1288.252\n",
      "JFBFB = 10000.000\n",
      "JFBCM = 10000.000\n",
      "\n",
      "UNLEASH_CM = 409.20\n",
      "UNLEASH_FB = 66.93\n",
      "\n",
      "LMAX_CM ="
     ]
    },
    {
     "data": {
      "text/html": [
       "Waiting for W&B process to finish... <strong style=\"color:green\">(success).</strong>"
      ],
      "text/plain": [
       "<IPython.core.display.HTML object>"
      ]
     },
     "metadata": {},
     "output_type": "display_data"
    },
    {
     "data": {
      "text/html": [
       "<style>\n",
       "    table.wandb td:nth-child(1) { padding: 0 10px; text-align: left ; width: auto;} td:nth-child(2) {text-align: left ; width: 100%}\n",
       "    .wandb-row { display: flex; flex-direction: row; flex-wrap: wrap; justify-content: flex-start; width: 100% }\n",
       "    .wandb-col { display: flex; flex-direction: column; flex-basis: 100%; flex: 1; padding: 10px; }\n",
       "    </style>\n",
       "<div class=\"wandb-row\"><div class=\"wandb-col\"><h3>Run history:</h3><br/><table class=\"wandb\"><tr><td>area_abs</td><td>▁</td></tr><tr><td>area_entropy</td><td>▁</td></tr><tr><td>elongation_entropy</td><td>▁</td></tr><tr><td>mean</td><td>▁</td></tr></table><br/></div><div class=\"wandb-col\"><h3>Run summary:</h3><br/><table class=\"wandb\"><tr><td>area_abs</td><td>21.44</td></tr><tr><td>area_entropy</td><td>0.79709</td></tr><tr><td>elongation_entropy</td><td>0.23184</td></tr><tr><td>mean</td><td>0.79709</td></tr></table><br/></div></div>"
      ],
      "text/plain": [
       "<IPython.core.display.HTML object>"
      ]
     },
     "metadata": {},
     "output_type": "display_data"
    },
    {
     "data": {
      "text/html": [
       " View run <strong style=\"color:#cdcd00\">autumn-sweep-5</strong> at: <a href='https://wandb.ai/potts-modelling/potts-optimization/runs/w072nc5t' target=\"_blank\">https://wandb.ai/potts-modelling/potts-optimization/runs/w072nc5t</a><br/>Synced 6 W&B file(s), 1 media file(s), 0 artifact file(s) and 0 other file(s)"
      ],
      "text/plain": [
       "<IPython.core.display.HTML object>"
      ]
     },
     "metadata": {},
     "output_type": "display_data"
    },
    {
     "data": {
      "text/html": [
       "Find logs at: <code>./wandb/run-20231121_144810-w072nc5t/logs</code>"
      ],
      "text/plain": [
       "<IPython.core.display.HTML object>"
      ]
     },
     "metadata": {},
     "output_type": "display_data"
    },
    {
     "name": "stderr",
     "output_type": "stream",
     "text": [
      "\u001b[34m\u001b[1mwandb\u001b[0m: Agent Starting Run: qt5dsxci with config:\n",
      "\u001b[34m\u001b[1mwandb\u001b[0m: \tDETACH_CM: 804.4663197938103\n",
      "\u001b[34m\u001b[1mwandb\u001b[0m: \tGN_CM: 999.4795425443848\n",
      "\u001b[34m\u001b[1mwandb\u001b[0m: \tINELASTICITY_CM: 848.0492279144773\n",
      "\u001b[34m\u001b[1mwandb\u001b[0m: \tJCMCM: 3.022270267948764\n",
      "\u001b[34m\u001b[1mwandb\u001b[0m: \tJCMMD: 3.3308767347776436\n",
      "\u001b[34m\u001b[1mwandb\u001b[0m: \tLMAX_CM: 92.2093821814242\n",
      "\u001b[34m\u001b[1mwandb\u001b[0m: \tMAX_FOCALS_CM: 5\n",
      "\u001b[34m\u001b[1mwandb\u001b[0m: \tTARGETVOLUME_CM: 5821.2481844980175\n",
      "\u001b[34m\u001b[1mwandb\u001b[0m: \tUNLEASH_CM: 709.690898220248\n"
     ]
    },
    {
     "data": {
      "text/html": [
       "wandb version 0.16.0 is available!  To upgrade, please run:\n",
       " $ pip install wandb --upgrade"
      ],
      "text/plain": [
       "<IPython.core.display.HTML object>"
      ]
     },
     "metadata": {},
     "output_type": "display_data"
    },
    {
     "data": {
      "text/html": [
       "Tracking run with wandb version 0.14.0"
      ],
      "text/plain": [
       "<IPython.core.display.HTML object>"
      ]
     },
     "metadata": {},
     "output_type": "display_data"
    },
    {
     "data": {
      "text/html": [
       "Run data is saved locally in <code>/home/roman/potts_random/potts_3d_new/wandb/run-20231121_144855-qt5dsxci</code>"
      ],
      "text/plain": [
       "<IPython.core.display.HTML object>"
      ]
     },
     "metadata": {},
     "output_type": "display_data"
    },
    {
     "data": {
      "text/html": [
       "Syncing run <strong><a href='https://wandb.ai/potts-modelling/potts-optimization/runs/qt5dsxci' target=\"_blank\">denim-sweep-6</a></strong> to <a href='https://wandb.ai/potts-modelling/potts-optimization' target=\"_blank\">Weights & Biases</a> (<a href='https://wandb.me/run' target=\"_blank\">docs</a>)<br/>Sweep page: <a href='https://wandb.ai/potts-modelling/potts-optimization/sweeps/dsupzqfy' target=\"_blank\">https://wandb.ai/potts-modelling/potts-optimization/sweeps/dsupzqfy</a>"
      ],
      "text/plain": [
       "<IPython.core.display.HTML object>"
      ]
     },
     "metadata": {},
     "output_type": "display_data"
    },
    {
     "data": {
      "text/html": [
       " View project at <a href='https://wandb.ai/potts-modelling/potts-optimization' target=\"_blank\">https://wandb.ai/potts-modelling/potts-optimization</a>"
      ],
      "text/plain": [
       "<IPython.core.display.HTML object>"
      ]
     },
     "metadata": {},
     "output_type": "display_data"
    },
    {
     "data": {
      "text/html": [
       " View sweep at <a href='https://wandb.ai/potts-modelling/potts-optimization/sweeps/dsupzqfy' target=\"_blank\">https://wandb.ai/potts-modelling/potts-optimization/sweeps/dsupzqfy</a>"
      ],
      "text/plain": [
       "<IPython.core.display.HTML object>"
      ]
     },
     "metadata": {},
     "output_type": "display_data"
    },
    {
     "data": {
      "text/html": [
       " View run at <a href='https://wandb.ai/potts-modelling/potts-optimization/runs/qt5dsxci' target=\"_blank\">https://wandb.ai/potts-modelling/potts-optimization/runs/qt5dsxci</a>"
      ],
      "text/plain": [
       "<IPython.core.display.HTML object>"
      ]
     },
     "metadata": {},
     "output_type": "display_data"
    },
    {
     "data": {
      "text/html": [
       "Waiting for W&B process to finish... <strong style=\"color:green\">(success).</strong>"
      ],
      "text/plain": [
       "<IPython.core.display.HTML object>"
      ]
     },
     "metadata": {},
     "output_type": "display_data"
    },
    {
     "data": {
      "text/html": [
       "<style>\n",
       "    table.wandb td:nth-child(1) { padding: 0 10px; text-align: left ; width: auto;} td:nth-child(2) {text-align: left ; width: 100%}\n",
       "    .wandb-row { display: flex; flex-direction: row; flex-wrap: wrap; justify-content: flex-start; width: 100% }\n",
       "    .wandb-col { display: flex; flex-direction: column; flex-basis: 100%; flex: 1; padding: 10px; }\n",
       "    </style>\n",
       "<div class=\"wandb-row\"><div class=\"wandb-col\"><h3>Run history:</h3><br/><table class=\"wandb\"><tr><td>area_abs</td><td>▁</td></tr><tr><td>area_entropy</td><td>▁</td></tr><tr><td>elongation_entropy</td><td>▁</td></tr><tr><td>mean</td><td>▁</td></tr></table><br/></div><div class=\"wandb-col\"><h3>Run summary:</h3><br/><table class=\"wandb\"><tr><td>area_abs</td><td>20.64</td></tr><tr><td>area_entropy</td><td>0.80425</td></tr><tr><td>elongation_entropy</td><td>0.32567</td></tr><tr><td>mean</td><td>0.80425</td></tr></table><br/></div></div>"
      ],
      "text/plain": [
       "<IPython.core.display.HTML object>"
      ]
     },
     "metadata": {},
     "output_type": "display_data"
    },
    {
     "data": {
      "text/html": [
       " View run <strong style=\"color:#cdcd00\">denim-sweep-6</strong> at: <a href='https://wandb.ai/potts-modelling/potts-optimization/runs/qt5dsxci' target=\"_blank\">https://wandb.ai/potts-modelling/potts-optimization/runs/qt5dsxci</a><br/>Synced 5 W&B file(s), 1 media file(s), 0 artifact file(s) and 0 other file(s)"
      ],
      "text/plain": [
       "<IPython.core.display.HTML object>"
      ]
     },
     "metadata": {},
     "output_type": "display_data"
    },
    {
     "data": {
      "text/html": [
       "Find logs at: <code>./wandb/run-20231121_144855-qt5dsxci/logs</code>"
      ],
      "text/plain": [
       "<IPython.core.display.HTML object>"
      ]
     },
     "metadata": {},
     "output_type": "display_data"
    },
    {
     "name": "stderr",
     "output_type": "stream",
     "text": [
      "\u001b[34m\u001b[1mwandb\u001b[0m: Agent Starting Run: wd31cusr with config:\n",
      "\u001b[34m\u001b[1mwandb\u001b[0m: \tDETACH_CM: 122.59385741991288\n",
      "\u001b[34m\u001b[1mwandb\u001b[0m: \tGN_CM: 609.5511806005144\n",
      "\u001b[34m\u001b[1mwandb\u001b[0m: \tINELASTICITY_CM: 987.3017877753498\n",
      "\u001b[34m\u001b[1mwandb\u001b[0m: \tJCMCM: 4.234500194271967\n",
      "\u001b[34m\u001b[1mwandb\u001b[0m: \tJCMMD: 3.8438101544751455\n",
      "\u001b[34m\u001b[1mwandb\u001b[0m: \tLMAX_CM: 110.17825508561556\n",
      "\u001b[34m\u001b[1mwandb\u001b[0m: \tMAX_FOCALS_CM: 31\n",
      "\u001b[34m\u001b[1mwandb\u001b[0m: \tTARGETVOLUME_CM: 9949.12505291868\n",
      "\u001b[34m\u001b[1mwandb\u001b[0m: \tUNLEASH_CM: 637.0789017783482\n"
     ]
    },
    {
     "data": {
      "text/html": [
       "wandb version 0.16.0 is available!  To upgrade, please run:\n",
       " $ pip install wandb --upgrade"
      ],
      "text/plain": [
       "<IPython.core.display.HTML object>"
      ]
     },
     "metadata": {},
     "output_type": "display_data"
    },
    {
     "data": {
      "text/html": [
       "Tracking run with wandb version 0.14.0"
      ],
      "text/plain": [
       "<IPython.core.display.HTML object>"
      ]
     },
     "metadata": {},
     "output_type": "display_data"
    },
    {
     "data": {
      "text/html": [
       "Run data is saved locally in <code>/home/roman/potts_random/potts_3d_new/wandb/run-20231121_144927-wd31cusr</code>"
      ],
      "text/plain": [
       "<IPython.core.display.HTML object>"
      ]
     },
     "metadata": {},
     "output_type": "display_data"
    },
    {
     "data": {
      "text/html": [
       "Syncing run <strong><a href='https://wandb.ai/potts-modelling/potts-optimization/runs/wd31cusr' target=\"_blank\">atomic-sweep-7</a></strong> to <a href='https://wandb.ai/potts-modelling/potts-optimization' target=\"_blank\">Weights & Biases</a> (<a href='https://wandb.me/run' target=\"_blank\">docs</a>)<br/>Sweep page: <a href='https://wandb.ai/potts-modelling/potts-optimization/sweeps/dsupzqfy' target=\"_blank\">https://wandb.ai/potts-modelling/potts-optimization/sweeps/dsupzqfy</a>"
      ],
      "text/plain": [
       "<IPython.core.display.HTML object>"
      ]
     },
     "metadata": {},
     "output_type": "display_data"
    },
    {
     "data": {
      "text/html": [
       " View project at <a href='https://wandb.ai/potts-modelling/potts-optimization' target=\"_blank\">https://wandb.ai/potts-modelling/potts-optimization</a>"
      ],
      "text/plain": [
       "<IPython.core.display.HTML object>"
      ]
     },
     "metadata": {},
     "output_type": "display_data"
    },
    {
     "data": {
      "text/html": [
       " View sweep at <a href='https://wandb.ai/potts-modelling/potts-optimization/sweeps/dsupzqfy' target=\"_blank\">https://wandb.ai/potts-modelling/potts-optimization/sweeps/dsupzqfy</a>"
      ],
      "text/plain": [
       "<IPython.core.display.HTML object>"
      ]
     },
     "metadata": {},
     "output_type": "display_data"
    },
    {
     "data": {
      "text/html": [
       " View run at <a href='https://wandb.ai/potts-modelling/potts-optimization/runs/wd31cusr' target=\"_blank\">https://wandb.ai/potts-modelling/potts-optimization/runs/wd31cusr</a>"
      ],
      "text/plain": [
       "<IPython.core.display.HTML object>"
      ]
     },
     "metadata": {},
     "output_type": "display_data"
    },
    {
     "data": {
      "text/html": [
       "Waiting for W&B process to finish... <strong style=\"color:green\">(success).</strong>"
      ],
      "text/plain": [
       "<IPython.core.display.HTML object>"
      ]
     },
     "metadata": {},
     "output_type": "display_data"
    },
    {
     "data": {
      "text/html": [
       "<style>\n",
       "    table.wandb td:nth-child(1) { padding: 0 10px; text-align: left ; width: auto;} td:nth-child(2) {text-align: left ; width: 100%}\n",
       "    .wandb-row { display: flex; flex-direction: row; flex-wrap: wrap; justify-content: flex-start; width: 100% }\n",
       "    .wandb-col { display: flex; flex-direction: column; flex-basis: 100%; flex: 1; padding: 10px; }\n",
       "    </style>\n",
       "<div class=\"wandb-row\"><div class=\"wandb-col\"><h3>Run history:</h3><br/><table class=\"wandb\"><tr><td>area_abs</td><td>▁</td></tr><tr><td>area_entropy</td><td>▁</td></tr><tr><td>elongation_entropy</td><td>▁</td></tr><tr><td>mean</td><td>▁</td></tr></table><br/></div><div class=\"wandb-col\"><h3>Run summary:</h3><br/><table class=\"wandb\"><tr><td>area_abs</td><td>21.92</td></tr><tr><td>area_entropy</td><td>0.79281</td></tr><tr><td>elongation_entropy</td><td>0.18349</td></tr><tr><td>mean</td><td>0.79281</td></tr></table><br/></div></div>"
      ],
      "text/plain": [
       "<IPython.core.display.HTML object>"
      ]
     },
     "metadata": {},
     "output_type": "display_data"
    },
    {
     "data": {
      "text/html": [
       " View run <strong style=\"color:#cdcd00\">atomic-sweep-7</strong> at: <a href='https://wandb.ai/potts-modelling/potts-optimization/runs/wd31cusr' target=\"_blank\">https://wandb.ai/potts-modelling/potts-optimization/runs/wd31cusr</a><br/>Synced 5 W&B file(s), 1 media file(s), 0 artifact file(s) and 0 other file(s)"
      ],
      "text/plain": [
       "<IPython.core.display.HTML object>"
      ]
     },
     "metadata": {},
     "output_type": "display_data"
    },
    {
     "data": {
      "text/html": [
       "Find logs at: <code>./wandb/run-20231121_144927-wd31cusr/logs</code>"
      ],
      "text/plain": [
       "<IPython.core.display.HTML object>"
      ]
     },
     "metadata": {},
     "output_type": "display_data"
    },
    {
     "name": "stderr",
     "output_type": "stream",
     "text": [
      "\u001b[34m\u001b[1mwandb\u001b[0m: Sweep Agent: Waiting for job.\n",
      "\u001b[34m\u001b[1mwandb\u001b[0m: Job received.\n",
      "\u001b[34m\u001b[1mwandb\u001b[0m: Agent Starting Run: j44agxus with config:\n",
      "\u001b[34m\u001b[1mwandb\u001b[0m: \tDETACH_CM: 543.9511712099708\n",
      "\u001b[34m\u001b[1mwandb\u001b[0m: \tGN_CM: 212.0363981758562\n",
      "\u001b[34m\u001b[1mwandb\u001b[0m: \tINELASTICITY_CM: 338.30439796932916\n",
      "\u001b[34m\u001b[1mwandb\u001b[0m: \tJCMCM: 0.18336973276180207\n",
      "\u001b[34m\u001b[1mwandb\u001b[0m: \tJCMMD: 4.172052364817508\n",
      "\u001b[34m\u001b[1mwandb\u001b[0m: \tLMAX_CM: 60.326597951938744\n",
      "\u001b[34m\u001b[1mwandb\u001b[0m: \tMAX_FOCALS_CM: 39\n",
      "\u001b[34m\u001b[1mwandb\u001b[0m: \tTARGETVOLUME_CM: 7044.457419403437\n",
      "\u001b[34m\u001b[1mwandb\u001b[0m: \tUNLEASH_CM: 990.371516683703\n"
     ]
    },
    {
     "data": {
      "text/html": [
       "wandb version 0.16.0 is available!  To upgrade, please run:\n",
       " $ pip install wandb --upgrade"
      ],
      "text/plain": [
       "<IPython.core.display.HTML object>"
      ]
     },
     "metadata": {},
     "output_type": "display_data"
    },
    {
     "data": {
      "text/html": [
       "Tracking run with wandb version 0.14.0"
      ],
      "text/plain": [
       "<IPython.core.display.HTML object>"
      ]
     },
     "metadata": {},
     "output_type": "display_data"
    },
    {
     "data": {
      "text/html": [
       "Run data is saved locally in <code>/home/roman/potts_random/potts_3d_new/wandb/run-20231121_145013-j44agxus</code>"
      ],
      "text/plain": [
       "<IPython.core.display.HTML object>"
      ]
     },
     "metadata": {},
     "output_type": "display_data"
    },
    {
     "data": {
      "text/html": [
       "Syncing run <strong><a href='https://wandb.ai/potts-modelling/potts-optimization/runs/j44agxus' target=\"_blank\">dainty-sweep-8</a></strong> to <a href='https://wandb.ai/potts-modelling/potts-optimization' target=\"_blank\">Weights & Biases</a> (<a href='https://wandb.me/run' target=\"_blank\">docs</a>)<br/>Sweep page: <a href='https://wandb.ai/potts-modelling/potts-optimization/sweeps/dsupzqfy' target=\"_blank\">https://wandb.ai/potts-modelling/potts-optimization/sweeps/dsupzqfy</a>"
      ],
      "text/plain": [
       "<IPython.core.display.HTML object>"
      ]
     },
     "metadata": {},
     "output_type": "display_data"
    },
    {
     "data": {
      "text/html": [
       " View project at <a href='https://wandb.ai/potts-modelling/potts-optimization' target=\"_blank\">https://wandb.ai/potts-modelling/potts-optimization</a>"
      ],
      "text/plain": [
       "<IPython.core.display.HTML object>"
      ]
     },
     "metadata": {},
     "output_type": "display_data"
    },
    {
     "data": {
      "text/html": [
       " View sweep at <a href='https://wandb.ai/potts-modelling/potts-optimization/sweeps/dsupzqfy' target=\"_blank\">https://wandb.ai/potts-modelling/potts-optimization/sweeps/dsupzqfy</a>"
      ],
      "text/plain": [
       "<IPython.core.display.HTML object>"
      ]
     },
     "metadata": {},
     "output_type": "display_data"
    },
    {
     "data": {
      "text/html": [
       " View run at <a href='https://wandb.ai/potts-modelling/potts-optimization/runs/j44agxus' target=\"_blank\">https://wandb.ai/potts-modelling/potts-optimization/runs/j44agxus</a>"
      ],
      "text/plain": [
       "<IPython.core.display.HTML object>"
      ]
     },
     "metadata": {},
     "output_type": "display_data"
    },
    {
     "name": "stdout",
     "output_type": "stream",
     "text": [
      " 134.65 px\n",
      "LMAX_FB = 26.02 px\n",
      "\n",
      "MAX_FOCALS_CM = 26.00\n",
      "MAX_FOCALS_FB = 9.00\n",
      "\n",
      "text can print\n",
      "\n",
      "\n",
      "START INCREMENT 0\n",
      "Acceptance rate 0.1086\n",
      "START INCREMENT 10\n",
      "Acceptance rate 0.0727\n",
      "START INCREMENT 20\n",
      "Acceptance rate 0.0908\n",
      "START INCREMENT 30\n",
      "Acceptance rate 0.1009\n",
      "START INCREMENT 40\n",
      "Acceptance rate 0.1117\n",
      "START INCREMENT 50\n",
      "Acceptance rate 0.1070\n",
      "START INCREMENT 60\n",
      "Acceptance rate 0.1146\n",
      "START INCREMENT 70\n",
      "Acceptance rate 0.1140\n",
      "START INCREMENT 80\n",
      "Acceptance rate 0.0475\n",
      "START INCREMENT 90\n",
      "Acceptance rate 0.0103\n",
      "START INCREMENT 100\n",
      "Acceptance rate 0.0026\n",
      "START INCREMENT 110\n",
      "Acceptance rate 0.0023\n",
      "START INCREMENT 120\n",
      "Acceptance rate 0.0008\n",
      "START INCREMENT 130\n",
      "Acceptance rate 0.0008\n",
      "START INCREMENT 140\n",
      "Acceptance rate 0.0015\n",
      "START INCREMENT 150\n",
      "Acceptance rate 0.0011\n",
      "START INCREMENT 160\n",
      "Acceptance rate 0.0011\n",
      "SIMULATION FINISHED!\n",
      "\n",
      "START CHANNEL DISTRIBUTION 0\n",
      "Acceptance rate 0.0000\n",
      "START CHANNEL DISTRIBUTION 100\n",
      "Acceptance rate 0.0000\n",
      "SIMULATION FINISHED!\n",
      "Took 26s\n",
      "\n",
      "massives done!\n",
      "SEED = 2\n",
      "Sample size = 5 x 5 x 1\n",
      "\n",
      "GN_CM = 999.48\n",
      "TARGETVOLUME_CM = 36.38\n",
      "INELASTICITY_CM = 848.05\n",
      "DETACH_CM = 804.47\n",
      "\n",
      "GN_FB = 233.76\n",
      "TARGETVOLUME_FB = 18.75\n",
      "INELASTICITY_FB = 14.24\n",
      "DETACH_FB = 53.21\n",
      "\n",
      "JMDMD = 0.000\n",
      "JCMMD = 1332.351\n",
      "JFBMD = 560.270\n",
      "\n",
      "JCMCM = 1208.908\n",
      "JFBFB = 10000.000\n",
      "JFBCM = 10000.000\n",
      "\n",
      "UNLEASH_CM = 709.69\n",
      "UNLEASH_FB = 66.93\n",
      "\n",
      "LMAX_CM = 92.21 px\n",
      "LMAX_FB = 26.02 px\n",
      "\n",
      "MAX_FOCALS_CM = 5.00\n",
      "MAX_FOCALS_FB = 9.00\n",
      "\n",
      "text can print\n",
      "\n",
      "\n",
      "START INCREMENT 0\n",
      "Acceptance rate 0.1107\n",
      "START INCREMENT 10\n",
      "Acceptance rate 0.0757\n",
      "START INCREMENT 20\n",
      "Acceptance rate 0.1015\n",
      "START INCREMENT 30\n",
      "Acceptance rate 0.1179\n",
      "START INCREMENT 40\n",
      "Acceptance rate 0.1296\n",
      "START INCREMENT 50\n",
      "Acceptance rate 0.1498\n",
      "START INCREMENT 60\n",
      "Acceptance rate 0.1590\n",
      "START INCREMENT 70\n",
      "Acceptance rate 0.0522\n",
      "START INCREMENT 80\n",
      "Acceptance rate 0.0141\n",
      "START INCREMENT 90\n",
      "Acceptance rate 0.0011\n",
      "START INCREMENT 100\n",
      "Acceptance rate 0.0000\n",
      "SIMULATION FINISHED!\n",
      "\n",
      "START CHANNEL DISTRIBUTION 0\n",
      "Acceptance rate 0.0000\n",
      "START CHANNEL DISTRIBUTION 100\n",
      "Acceptance rate 0.0000\n",
      "SIMULATION FINISHED!\n",
      "Took 18s\n",
      "\n",
      "massives done!\n",
      "SEED = 2\n",
      "Sample size = 5 x 5 x 1\n",
      "\n",
      "GN_CM = 609.55\n",
      "TARGETVOLUME_CM = 62.18\n",
      "INELASTICITY_CM = 987.30\n",
      "DETACH_CM = 122.59\n",
      "\n",
      "GN_FB = 233.76\n",
      "TARGETVOLUME_FB = 18.75\n",
      "INELASTICITY_FB = 14.24\n",
      "DETACH_FB = 53.21\n",
      "\n",
      "JMDMD = 0.000\n",
      "JCMMD = 1537.524\n",
      "JFBMD = 560.270\n",
      "\n",
      "JCMCM = 1693.800\n",
      "JFBFB = 10000.000\n",
      "JFBCM = 10000.000\n",
      "\n",
      "UNLEASH_CM = 637.08\n",
      "UNLEASH_FB = 66.93\n",
      "\n",
      "LMAX_CM = 110.18 px\n",
      "LMAX_FB = 26.02 px\n",
      "\n",
      "MAX_FOCALS_CM = 31.00\n",
      "MAX_FOCALS_FB = 9.00\n",
      "\n",
      "text can print\n",
      "\n",
      "\n",
      "START INCREMENT 0\n",
      "Acceptance rate 0.1068\n",
      "START INCREMENT 10\n",
      "Acceptance rate 0.0690\n",
      "START INCREMENT 20\n",
      "Acceptance rate 0.0856\n",
      "START INCREMENT 30\n",
      "Acceptance rate 0.0952\n",
      "START INCREMENT 40\n",
      "Acceptance rate 0.1028\n",
      "START INCREMENT 50\n",
      "Acceptance rate 0.1039\n",
      "START INCREMENT 60\n",
      "Acceptance rate 0.1125\n",
      "START INCREMENT 70\n",
      "Acceptance rate 0.1020\n",
      "START INCREMENT 80\n",
      "Acceptance rate 0.0604\n",
      "START INCREMENT 90\n",
      "Acceptance rate 0.0134\n",
      "START INCREMENT 100\n",
      "Acceptance rate 0.0020\n",
      "START INCREMENT 110\n",
      "Acceptance rate 0.0003\n",
      "START INCREMENT 120\n",
      "Acceptance rate 0.0003\n",
      "SIMULATION FINISHED!\n",
      "\n",
      "START CHANNEL DISTRIBUTION 0\n",
      "Acceptance rate 0.0000\n",
      "START CHANNEL DISTRIBUTION 100\n",
      "Acceptance rate 0.0000\n",
      "SIMULATION FINISHED!\n",
      "Took 23s\n",
      "\n",
      "massives done!\n",
      "SEED = 2\n",
      "Sample size = 5 x 5 x 1\n",
      "\n",
      "GN_CM = 212.04\n",
      "TARGETVOLUME_CM = 44.03\n",
      "INELASTICITY_CM = 338.30\n",
      "DETACH_CM = 543.95\n",
      "\n",
      "GN_FB = 233.76\n",
      "TARGETVOLUME_FB = 18.75\n",
      "INELASTICITY_FB = 14.24\n",
      "DETACH_FB = 53.21\n",
      "\n",
      "JMDMD = 0.000\n",
      "JCMMD = 1668.821\n",
      "JFBMD = 560.270\n",
      "\n",
      "JCMCM = 73.348\n",
      "JFBFB = 10000.000\n",
      "JFBCM = 10000.000\n",
      "\n",
      "UNLEASH_CM = 990.37\n",
      "UNLEASH_FB = 66.93\n",
      "\n",
      "LMAX_CM = 60.33 px\n",
      "LMAX_FB = 26.02 px\n",
      "\n",
      "MAX_FOCALS_CM = 39.00\n",
      "MAX_FOCALS_FB = 9.00\n",
      "\n",
      "text can print\n",
      "\n",
      "\n",
      "START INCREMENT 0\n",
      "Acceptance rate 0.1234\n",
      "START INCREMENT 10\n",
      "Acceptance rate 0.0990\n",
      "START INCREMENT 20\n",
      "Acceptance rate 0.1030\n",
      "START INCREMENT 30\n",
      "Acceptance rate 0.1086\n",
      "START INCREMENT 40\n",
      "Acceptance rate 0.1062\n",
      "START INCREMENT 50\n",
      "Acceptance rate 0.1142\n",
      "START INCREMENT 60\n",
      "Acceptance rate 0.1052\n",
      "START INCREMENT 70\n",
      "Acceptance rate 0.1040\n",
      "START INCREMENT 80\n",
      "Acceptance rate 0.0934\n",
      "START INCREMENT 90\n",
      "Acceptance rate 0.0950\n",
      "START INC"
     ]
    },
    {
     "data": {
      "text/html": [
       "Waiting for W&B process to finish... <strong style=\"color:green\">(success).</strong>"
      ],
      "text/plain": [
       "<IPython.core.display.HTML object>"
      ]
     },
     "metadata": {},
     "output_type": "display_data"
    },
    {
     "data": {
      "text/html": [
       "<style>\n",
       "    table.wandb td:nth-child(1) { padding: 0 10px; text-align: left ; width: auto;} td:nth-child(2) {text-align: left ; width: 100%}\n",
       "    .wandb-row { display: flex; flex-direction: row; flex-wrap: wrap; justify-content: flex-start; width: 100% }\n",
       "    .wandb-col { display: flex; flex-direction: column; flex-basis: 100%; flex: 1; padding: 10px; }\n",
       "    </style>\n",
       "<div class=\"wandb-row\"><div class=\"wandb-col\"><h3>Run history:</h3><br/><table class=\"wandb\"><tr><td>area_abs</td><td>▁</td></tr><tr><td>area_entropy</td><td>▁</td></tr><tr><td>elongation_entropy</td><td>▁</td></tr><tr><td>mean</td><td>▁</td></tr></table><br/></div><div class=\"wandb-col\"><h3>Run summary:</h3><br/><table class=\"wandb\"><tr><td>area_abs</td><td>15.32</td></tr><tr><td>area_entropy</td><td>0.85267</td></tr><tr><td>elongation_entropy</td><td>0.10334</td></tr><tr><td>mean</td><td>0.85267</td></tr></table><br/></div></div>"
      ],
      "text/plain": [
       "<IPython.core.display.HTML object>"
      ]
     },
     "metadata": {},
     "output_type": "display_data"
    },
    {
     "data": {
      "text/html": [
       " View run <strong style=\"color:#cdcd00\">dainty-sweep-8</strong> at: <a href='https://wandb.ai/potts-modelling/potts-optimization/runs/j44agxus' target=\"_blank\">https://wandb.ai/potts-modelling/potts-optimization/runs/j44agxus</a><br/>Synced 6 W&B file(s), 1 media file(s), 0 artifact file(s) and 0 other file(s)"
      ],
      "text/plain": [
       "<IPython.core.display.HTML object>"
      ]
     },
     "metadata": {},
     "output_type": "display_data"
    },
    {
     "data": {
      "text/html": [
       "Find logs at: <code>./wandb/run-20231121_145013-j44agxus/logs</code>"
      ],
      "text/plain": [
       "<IPython.core.display.HTML object>"
      ]
     },
     "metadata": {},
     "output_type": "display_data"
    },
    {
     "name": "stderr",
     "output_type": "stream",
     "text": [
      "\u001b[34m\u001b[1mwandb\u001b[0m: Agent Starting Run: hxy233nt with config:\n",
      "\u001b[34m\u001b[1mwandb\u001b[0m: \tDETACH_CM: 921.3404648375974\n",
      "\u001b[34m\u001b[1mwandb\u001b[0m: \tGN_CM: 191.67083262154932\n",
      "\u001b[34m\u001b[1mwandb\u001b[0m: \tINELASTICITY_CM: 263.71658278027945\n",
      "\u001b[34m\u001b[1mwandb\u001b[0m: \tJCMCM: 2.687589761085672\n",
      "\u001b[34m\u001b[1mwandb\u001b[0m: \tJCMMD: 2.225532640152722\n",
      "\u001b[34m\u001b[1mwandb\u001b[0m: \tLMAX_CM: 116.5200278650596\n",
      "\u001b[34m\u001b[1mwandb\u001b[0m: \tMAX_FOCALS_CM: 6\n",
      "\u001b[34m\u001b[1mwandb\u001b[0m: \tTARGETVOLUME_CM: 1379.9998027410993\n",
      "\u001b[34m\u001b[1mwandb\u001b[0m: \tUNLEASH_CM: 647.2103548226291\n"
     ]
    },
    {
     "data": {
      "text/html": [
       "wandb version 0.16.0 is available!  To upgrade, please run:\n",
       " $ pip install wandb --upgrade"
      ],
      "text/plain": [
       "<IPython.core.display.HTML object>"
      ]
     },
     "metadata": {},
     "output_type": "display_data"
    },
    {
     "data": {
      "text/html": [
       "Tracking run with wandb version 0.14.0"
      ],
      "text/plain": [
       "<IPython.core.display.HTML object>"
      ]
     },
     "metadata": {},
     "output_type": "display_data"
    },
    {
     "data": {
      "text/html": [
       "Run data is saved locally in <code>/home/roman/potts_random/potts_3d_new/wandb/run-20231121_145243-hxy233nt</code>"
      ],
      "text/plain": [
       "<IPython.core.display.HTML object>"
      ]
     },
     "metadata": {},
     "output_type": "display_data"
    },
    {
     "data": {
      "text/html": [
       "Syncing run <strong><a href='https://wandb.ai/potts-modelling/potts-optimization/runs/hxy233nt' target=\"_blank\">zesty-sweep-9</a></strong> to <a href='https://wandb.ai/potts-modelling/potts-optimization' target=\"_blank\">Weights & Biases</a> (<a href='https://wandb.me/run' target=\"_blank\">docs</a>)<br/>Sweep page: <a href='https://wandb.ai/potts-modelling/potts-optimization/sweeps/dsupzqfy' target=\"_blank\">https://wandb.ai/potts-modelling/potts-optimization/sweeps/dsupzqfy</a>"
      ],
      "text/plain": [
       "<IPython.core.display.HTML object>"
      ]
     },
     "metadata": {},
     "output_type": "display_data"
    },
    {
     "data": {
      "text/html": [
       " View project at <a href='https://wandb.ai/potts-modelling/potts-optimization' target=\"_blank\">https://wandb.ai/potts-modelling/potts-optimization</a>"
      ],
      "text/plain": [
       "<IPython.core.display.HTML object>"
      ]
     },
     "metadata": {},
     "output_type": "display_data"
    },
    {
     "data": {
      "text/html": [
       " View sweep at <a href='https://wandb.ai/potts-modelling/potts-optimization/sweeps/dsupzqfy' target=\"_blank\">https://wandb.ai/potts-modelling/potts-optimization/sweeps/dsupzqfy</a>"
      ],
      "text/plain": [
       "<IPython.core.display.HTML object>"
      ]
     },
     "metadata": {},
     "output_type": "display_data"
    },
    {
     "data": {
      "text/html": [
       " View run at <a href='https://wandb.ai/potts-modelling/potts-optimization/runs/hxy233nt' target=\"_blank\">https://wandb.ai/potts-modelling/potts-optimization/runs/hxy233nt</a>"
      ],
      "text/plain": [
       "<IPython.core.display.HTML object>"
      ]
     },
     "metadata": {},
     "output_type": "display_data"
    },
    {
     "name": "stdout",
     "output_type": "stream",
     "text": [
      "REMENT 100\n",
      "Acceptance rate 0.1007\n",
      "START INCREMENT 110\n",
      "Acceptance rate 0.0991\n",
      "START INCREMENT 120\n",
      "Acceptance rate 0.0876\n",
      "START INCREMENT 130\n",
      "Acceptance rate 0.0733\n",
      "START INCREMENT 140\n",
      "Acceptance rate 0.0683\n",
      "START INCREMENT 150\n",
      "Acceptance rate 0.0572\n",
      "START INCREMENT 160\n",
      "Acceptance rate 0.0513\n",
      "START INCREMENT 170\n",
      "Acceptance rate 0.0485\n",
      "START INCREMENT 180\n",
      "Acceptance rate 0.0402\n",
      "START INCREMENT 190\n",
      "Acceptance rate 0.0361\n",
      "START INCREMENT 200\n",
      "Acceptance rate 0.0326\n",
      "START INCREMENT 210\n",
      "Acceptance rate 0.0218\n",
      "START INCREMENT 220\n",
      "Acceptance rate 0.0278\n",
      "START INCREMENT 230\n",
      "Acceptance rate 0.0231\n",
      "START INCREMENT 240\n",
      "Acceptance rate 0.0178\n",
      "START INCREMENT 250\n",
      "Acceptance rate 0.0179\n",
      "START INCREMENT 260\n",
      "Acceptance rate 0.0107\n",
      "START INCREMENT 270\n",
      "Acceptance rate 0.0167\n",
      "START INCREMENT 280\n",
      "Acceptance rate 0.0113\n",
      "START INCREMENT 290\n",
      "Acceptance rate 0.0100\n",
      "START INCREMENT 300\n",
      "Acceptance rate 0.0117\n",
      "START INCREMENT 310\n",
      "Acceptance rate 0.0118\n",
      "START INCREMENT 320\n",
      "Acceptance rate 0.0076\n",
      "START INCREMENT 330\n",
      "Acceptance rate 0.0043\n",
      "START INCREMENT 340\n",
      "Acceptance rate 0.0059\n",
      "START INCREMENT 350\n",
      "Acceptance rate 0.0094\n",
      "START INCREMENT 360\n",
      "Acceptance rate 0.0039\n",
      "START INCREMENT 370\n",
      "Acceptance rate 0.0063\n",
      "START INCREMENT 380\n",
      "Acceptance rate 0.0064\n",
      "START INCREMENT 390\n",
      "Acceptance rate 0.0044\n",
      "START INCREMENT 400\n",
      "Acceptance rate 0.0102\n",
      "START INCREMENT 410\n",
      "Acceptance rate 0.0037\n",
      "START INCREMENT 420\n",
      "Acceptance rate 0.0059\n",
      "START INCREMENT 430\n",
      "Acceptance rate 0.0041\n",
      "START INCREMENT 440\n",
      "Acceptance rate 0.0034\n",
      "START INCREMENT 450\n",
      "Acceptance rate 0.0019\n",
      "START INCREMENT 460\n",
      "Acceptance rate 0.0015\n",
      "START INCREMENT 470\n",
      "Acceptance rate 0.0030\n",
      "START INCREMENT 480\n",
      "Acceptance rate 0.0062\n",
      "START INCREMENT 490\n",
      "Acceptance rate 0.0006\n",
      "START INCREMENT 500\n",
      "Acceptance rate 0.0012\n",
      "START INCREMENT 510\n",
      "Acceptance rate 0.0029\n",
      "START INCREMENT 520\n",
      "Acceptance rate 0.0013\n",
      "START INCREMENT 530\n",
      "Acceptance rate 0.0003\n",
      "START INCREMENT 540\n",
      "Acceptance rate 0.0025\n",
      "START INCREMENT 550\n",
      "Acceptance rate 0.0020\n",
      "START INCREMENT 560\n",
      "Acceptance rate 0.0013\n",
      "START INCREMENT 570\n",
      "Acceptance rate 0.0013\n",
      "START INCREMENT 580\n",
      "Acceptance rate 0.0006\n",
      "START INCREMENT 590\n",
      "Acceptance rate 0.0010\n",
      "START INCREMENT 600\n",
      "Acceptance rate 0.0036\n",
      "START INCREMENT 610\n",
      "Acceptance rate 0.0003\n",
      "START INCREMENT 620\n",
      "Acceptance rate 0.0006\n",
      "START INCREMENT 630\n",
      "Acceptance rate 0.0009\n",
      "START INCREMENT 640\n",
      "Acceptance rate 0.0033\n",
      "START INCREMENT 650\n",
      "Acceptance rate 0.0023\n",
      "START INCREMENT 660\n",
      "Acceptance rate 0.0016\n",
      "START INCREMENT 670\n",
      "Acceptance rate 0.0006\n",
      "START INCREMENT 680\n",
      "Acceptance rate 0.0010\n",
      "START INCREMENT 690\n",
      "Acceptance rate 0.0013\n",
      "START INCREMENT 700\n",
      "Acceptance rate 0.0019\n",
      "START INCREMENT 710\n",
      "Acceptance rate 0.0013\n",
      "START INCREMENT 720\n",
      "Acceptance rate 0.0023\n",
      "START INCREMENT 730\n",
      "Acceptance rate 0.0010\n",
      "START INCREMENT 740\n",
      "Acceptance rate 0.0007\n",
      "START INCREMENT 750\n",
      "Acceptance rate 0.0010\n",
      "START INCREMENT 760\n",
      "Acceptance rate 0.0023\n",
      "START INCREMENT 770\n",
      "Acceptance rate 0.0016\n",
      "START INCREMENT 780\n",
      "Acceptance rate 0.0006\n",
      "START INCREMENT 790\n",
      "SIMULATION FINISHED!\n",
      "\n",
      "START CHANNEL DISTRIBUTION 0\n",
      "Acceptance rate 0.0000\n",
      "START CHANNEL DISTRIBUTION 100\n",
      "Acceptance rate 0.0000\n",
      "SIMULATION FINISHED!\n",
      "Took 131s\n",
      "\n",
      "massives done!\n",
      "SEED = 2\n",
      "Sample size = 5 x 5 x 1\n",
      "\n",
      "GN_CM = 191.67\n",
      "TARGETVOLUME_CM = 8.62\n",
      "INELASTICITY_CM = 263.72\n",
      "DETACH_CM = 921.34\n",
      "\n",
      "GN_FB = 233.76\n",
      "TARGETVOLUME_FB = 18.75\n",
      "INELASTICITY_FB = 14.24\n",
      "DETACH_FB = 53.21\n",
      "\n",
      "JMDMD = 0.000\n",
      "JCMMD = 890.213\n",
      "JFBMD = 560.270\n",
      "\n",
      "JCMCM = 1075.036\n",
      "JFBFB = 10000.000\n",
      "JFBCM = 10000.000\n",
      "\n",
      "UNLEASH_CM = 647.21\n",
      "UNLEASH_FB = 66.93\n",
      "\n",
      "LMAX_CM = 116.52 px\n",
      "LMAX_FB = 26.02 px\n",
      "\n",
      "MAX_FOCALS_CM = 6.00\n",
      "MAX_FOCALS_FB = 9.00\n",
      "\n",
      "text can print\n",
      "\n",
      "\n",
      "START INCREMENT 0\n",
      "Acceptance rate 0.0972\n",
      "START INCREMENT 10\n",
      "Acceptance rate 0.0925\n",
      "START INCREMENT 20\n",
      "Acceptance rate 0.1287\n",
      "START INCREMENT 30\n",
      "Acceptance rate 0.1378\n",
      "START INCREMENT 40\n",
      "Acceptance rate 0.1491\n",
      "START INCREMENT 50\n",
      "Acceptance rate 0.1580\n",
      "START INCREMENT 60\n",
      "Acceptance rate 0.0665\n",
      "START INCREMENT 70\n",
      "Acceptance rate 0.0059\n",
      "START INCREMENT 80\n",
      "Acceptance rate 0.0011\n",
      "START INCREMENT 90\n",
      "Acceptance rate 0.0000\n",
      "START INCREMENT 100\n",
      "Acceptance rate 0.0000\n",
      "SIMULATION FINISHED!\n",
      "\n",
      "START CHANNEL DISTR"
     ]
    },
    {
     "data": {
      "text/html": [
       "Waiting for W&B process to finish... <strong style=\"color:green\">(success).</strong>"
      ],
      "text/plain": [
       "<IPython.core.display.HTML object>"
      ]
     },
     "metadata": {},
     "output_type": "display_data"
    },
    {
     "data": {
      "text/html": [
       "<style>\n",
       "    table.wandb td:nth-child(1) { padding: 0 10px; text-align: left ; width: auto;} td:nth-child(2) {text-align: left ; width: 100%}\n",
       "    .wandb-row { display: flex; flex-direction: row; flex-wrap: wrap; justify-content: flex-start; width: 100% }\n",
       "    .wandb-col { display: flex; flex-direction: column; flex-basis: 100%; flex: 1; padding: 10px; }\n",
       "    </style>\n",
       "<div class=\"wandb-row\"><div class=\"wandb-col\"><h3>Run history:</h3><br/><table class=\"wandb\"><tr><td>area_abs</td><td>▁</td></tr><tr><td>area_entropy</td><td>▁</td></tr><tr><td>elongation_entropy</td><td>▁</td></tr><tr><td>mean</td><td>▁</td></tr></table><br/></div><div class=\"wandb-col\"><h3>Run summary:</h3><br/><table class=\"wandb\"><tr><td>area_abs</td><td>21.08</td></tr><tr><td>area_entropy</td><td>0.80031</td></tr><tr><td>elongation_entropy</td><td>0.29767</td></tr><tr><td>mean</td><td>0.80031</td></tr></table><br/></div></div>"
      ],
      "text/plain": [
       "<IPython.core.display.HTML object>"
      ]
     },
     "metadata": {},
     "output_type": "display_data"
    },
    {
     "data": {
      "text/html": [
       " View run <strong style=\"color:#cdcd00\">zesty-sweep-9</strong> at: <a href='https://wandb.ai/potts-modelling/potts-optimization/runs/hxy233nt' target=\"_blank\">https://wandb.ai/potts-modelling/potts-optimization/runs/hxy233nt</a><br/>Synced 6 W&B file(s), 1 media file(s), 0 artifact file(s) and 0 other file(s)"
      ],
      "text/plain": [
       "<IPython.core.display.HTML object>"
      ]
     },
     "metadata": {},
     "output_type": "display_data"
    },
    {
     "data": {
      "text/html": [
       "Find logs at: <code>./wandb/run-20231121_145243-hxy233nt/logs</code>"
      ],
      "text/plain": [
       "<IPython.core.display.HTML object>"
      ]
     },
     "metadata": {},
     "output_type": "display_data"
    },
    {
     "name": "stderr",
     "output_type": "stream",
     "text": [
      "\u001b[34m\u001b[1mwandb\u001b[0m: Sweep Agent: Waiting for job.\n",
      "\u001b[34m\u001b[1mwandb\u001b[0m: Job received.\n",
      "\u001b[34m\u001b[1mwandb\u001b[0m: Agent Starting Run: lv2y2vkg with config:\n",
      "\u001b[34m\u001b[1mwandb\u001b[0m: \tDETACH_CM: 186.38723311672183\n",
      "\u001b[34m\u001b[1mwandb\u001b[0m: \tGN_CM: 961.6158511526206\n",
      "\u001b[34m\u001b[1mwandb\u001b[0m: \tINELASTICITY_CM: 373.7448092342259\n",
      "\u001b[34m\u001b[1mwandb\u001b[0m: \tJCMCM: 1.4966277476320804\n",
      "\u001b[34m\u001b[1mwandb\u001b[0m: \tJCMMD: 1.7851389824351058\n",
      "\u001b[34m\u001b[1mwandb\u001b[0m: \tLMAX_CM: 79.40453009690361\n",
      "\u001b[34m\u001b[1mwandb\u001b[0m: \tMAX_FOCALS_CM: 24\n",
      "\u001b[34m\u001b[1mwandb\u001b[0m: \tTARGETVOLUME_CM: 1650.6546279685513\n",
      "\u001b[34m\u001b[1mwandb\u001b[0m: \tUNLEASH_CM: 7.725871071571948\n"
     ]
    },
    {
     "data": {
      "text/html": [
       "wandb version 0.16.0 is available!  To upgrade, please run:\n",
       " $ pip install wandb --upgrade"
      ],
      "text/plain": [
       "<IPython.core.display.HTML object>"
      ]
     },
     "metadata": {},
     "output_type": "display_data"
    },
    {
     "data": {
      "text/html": [
       "Tracking run with wandb version 0.14.0"
      ],
      "text/plain": [
       "<IPython.core.display.HTML object>"
      ]
     },
     "metadata": {},
     "output_type": "display_data"
    },
    {
     "data": {
      "text/html": [
       "Run data is saved locally in <code>/home/roman/potts_random/potts_3d_new/wandb/run-20231121_145326-lv2y2vkg</code>"
      ],
      "text/plain": [
       "<IPython.core.display.HTML object>"
      ]
     },
     "metadata": {},
     "output_type": "display_data"
    },
    {
     "data": {
      "text/html": [
       "Syncing run <strong><a href='https://wandb.ai/potts-modelling/potts-optimization/runs/lv2y2vkg' target=\"_blank\">avid-sweep-10</a></strong> to <a href='https://wandb.ai/potts-modelling/potts-optimization' target=\"_blank\">Weights & Biases</a> (<a href='https://wandb.me/run' target=\"_blank\">docs</a>)<br/>Sweep page: <a href='https://wandb.ai/potts-modelling/potts-optimization/sweeps/dsupzqfy' target=\"_blank\">https://wandb.ai/potts-modelling/potts-optimization/sweeps/dsupzqfy</a>"
      ],
      "text/plain": [
       "<IPython.core.display.HTML object>"
      ]
     },
     "metadata": {},
     "output_type": "display_data"
    },
    {
     "data": {
      "text/html": [
       " View project at <a href='https://wandb.ai/potts-modelling/potts-optimization' target=\"_blank\">https://wandb.ai/potts-modelling/potts-optimization</a>"
      ],
      "text/plain": [
       "<IPython.core.display.HTML object>"
      ]
     },
     "metadata": {},
     "output_type": "display_data"
    },
    {
     "data": {
      "text/html": [
       " View sweep at <a href='https://wandb.ai/potts-modelling/potts-optimization/sweeps/dsupzqfy' target=\"_blank\">https://wandb.ai/potts-modelling/potts-optimization/sweeps/dsupzqfy</a>"
      ],
      "text/plain": [
       "<IPython.core.display.HTML object>"
      ]
     },
     "metadata": {},
     "output_type": "display_data"
    },
    {
     "data": {
      "text/html": [
       " View run at <a href='https://wandb.ai/potts-modelling/potts-optimization/runs/lv2y2vkg' target=\"_blank\">https://wandb.ai/potts-modelling/potts-optimization/runs/lv2y2vkg</a>"
      ],
      "text/plain": [
       "<IPython.core.display.HTML object>"
      ]
     },
     "metadata": {},
     "output_type": "display_data"
    },
    {
     "data": {
      "text/html": [
       "Waiting for W&B process to finish... <strong style=\"color:green\">(success).</strong>"
      ],
      "text/plain": [
       "<IPython.core.display.HTML object>"
      ]
     },
     "metadata": {},
     "output_type": "display_data"
    },
    {
     "data": {
      "text/html": [
       "<style>\n",
       "    table.wandb td:nth-child(1) { padding: 0 10px; text-align: left ; width: auto;} td:nth-child(2) {text-align: left ; width: 100%}\n",
       "    .wandb-row { display: flex; flex-direction: row; flex-wrap: wrap; justify-content: flex-start; width: 100% }\n",
       "    .wandb-col { display: flex; flex-direction: column; flex-basis: 100%; flex: 1; padding: 10px; }\n",
       "    </style>\n",
       "<div class=\"wandb-row\"><div class=\"wandb-col\"><h3>Run history:</h3><br/><table class=\"wandb\"><tr><td>area_abs</td><td>▁</td></tr><tr><td>area_entropy</td><td>▁</td></tr><tr><td>elongation_entropy</td><td>▁</td></tr><tr><td>mean</td><td>▁</td></tr></table><br/></div><div class=\"wandb-col\"><h3>Run summary:</h3><br/><table class=\"wandb\"><tr><td>area_abs</td><td>18.04</td></tr><tr><td>area_entropy</td><td>0.82774</td></tr><tr><td>elongation_entropy</td><td>0.16405</td></tr><tr><td>mean</td><td>0.82774</td></tr></table><br/></div></div>"
      ],
      "text/plain": [
       "<IPython.core.display.HTML object>"
      ]
     },
     "metadata": {},
     "output_type": "display_data"
    },
    {
     "data": {
      "text/html": [
       " View run <strong style=\"color:#cdcd00\">avid-sweep-10</strong> at: <a href='https://wandb.ai/potts-modelling/potts-optimization/runs/lv2y2vkg' target=\"_blank\">https://wandb.ai/potts-modelling/potts-optimization/runs/lv2y2vkg</a><br/>Synced 5 W&B file(s), 1 media file(s), 0 artifact file(s) and 0 other file(s)"
      ],
      "text/plain": [
       "<IPython.core.display.HTML object>"
      ]
     },
     "metadata": {},
     "output_type": "display_data"
    },
    {
     "data": {
      "text/html": [
       "Find logs at: <code>./wandb/run-20231121_145326-lv2y2vkg/logs</code>"
      ],
      "text/plain": [
       "<IPython.core.display.HTML object>"
      ]
     },
     "metadata": {},
     "output_type": "display_data"
    },
    {
     "name": "stderr",
     "output_type": "stream",
     "text": [
      "\u001b[34m\u001b[1mwandb\u001b[0m: Agent Starting Run: d3xssbb3 with config:\n",
      "\u001b[34m\u001b[1mwandb\u001b[0m: \tDETACH_CM: 137.96014621377665\n",
      "\u001b[34m\u001b[1mwandb\u001b[0m: \tGN_CM: 283.96530437205445\n",
      "\u001b[34m\u001b[1mwandb\u001b[0m: \tINELASTICITY_CM: 565.410902809575\n",
      "\u001b[34m\u001b[1mwandb\u001b[0m: \tJCMCM: 4.576681104915528\n",
      "\u001b[34m\u001b[1mwandb\u001b[0m: \tJCMMD: 2.9966195972004557\n",
      "\u001b[34m\u001b[1mwandb\u001b[0m: \tLMAX_CM: 89.5951625315888\n",
      "\u001b[34m\u001b[1mwandb\u001b[0m: \tMAX_FOCALS_CM: 25\n",
      "\u001b[34m\u001b[1mwandb\u001b[0m: \tTARGETVOLUME_CM: 5344.054348260756\n",
      "\u001b[34m\u001b[1mwandb\u001b[0m: \tUNLEASH_CM: 866.3756268539981\n"
     ]
    },
    {
     "data": {
      "text/html": [
       "wandb version 0.16.0 is available!  To upgrade, please run:\n",
       " $ pip install wandb --upgrade"
      ],
      "text/plain": [
       "<IPython.core.display.HTML object>"
      ]
     },
     "metadata": {},
     "output_type": "display_data"
    },
    {
     "data": {
      "text/html": [
       "Tracking run with wandb version 0.14.0"
      ],
      "text/plain": [
       "<IPython.core.display.HTML object>"
      ]
     },
     "metadata": {},
     "output_type": "display_data"
    },
    {
     "data": {
      "text/html": [
       "Run data is saved locally in <code>/home/roman/potts_random/potts_3d_new/wandb/run-20231121_145406-d3xssbb3</code>"
      ],
      "text/plain": [
       "<IPython.core.display.HTML object>"
      ]
     },
     "metadata": {},
     "output_type": "display_data"
    },
    {
     "data": {
      "text/html": [
       "Syncing run <strong><a href='https://wandb.ai/potts-modelling/potts-optimization/runs/d3xssbb3' target=\"_blank\">jumping-sweep-11</a></strong> to <a href='https://wandb.ai/potts-modelling/potts-optimization' target=\"_blank\">Weights & Biases</a> (<a href='https://wandb.me/run' target=\"_blank\">docs</a>)<br/>Sweep page: <a href='https://wandb.ai/potts-modelling/potts-optimization/sweeps/dsupzqfy' target=\"_blank\">https://wandb.ai/potts-modelling/potts-optimization/sweeps/dsupzqfy</a>"
      ],
      "text/plain": [
       "<IPython.core.display.HTML object>"
      ]
     },
     "metadata": {},
     "output_type": "display_data"
    },
    {
     "data": {
      "text/html": [
       " View project at <a href='https://wandb.ai/potts-modelling/potts-optimization' target=\"_blank\">https://wandb.ai/potts-modelling/potts-optimization</a>"
      ],
      "text/plain": [
       "<IPython.core.display.HTML object>"
      ]
     },
     "metadata": {},
     "output_type": "display_data"
    },
    {
     "data": {
      "text/html": [
       " View sweep at <a href='https://wandb.ai/potts-modelling/potts-optimization/sweeps/dsupzqfy' target=\"_blank\">https://wandb.ai/potts-modelling/potts-optimization/sweeps/dsupzqfy</a>"
      ],
      "text/plain": [
       "<IPython.core.display.HTML object>"
      ]
     },
     "metadata": {},
     "output_type": "display_data"
    },
    {
     "data": {
      "text/html": [
       " View run at <a href='https://wandb.ai/potts-modelling/potts-optimization/runs/d3xssbb3' target=\"_blank\">https://wandb.ai/potts-modelling/potts-optimization/runs/d3xssbb3</a>"
      ],
      "text/plain": [
       "<IPython.core.display.HTML object>"
      ]
     },
     "metadata": {},
     "output_type": "display_data"
    },
    {
     "data": {
      "text/html": [
       "Waiting for W&B process to finish... <strong style=\"color:green\">(success).</strong>"
      ],
      "text/plain": [
       "<IPython.core.display.HTML object>"
      ]
     },
     "metadata": {},
     "output_type": "display_data"
    },
    {
     "data": {
      "text/html": [
       "<style>\n",
       "    table.wandb td:nth-child(1) { padding: 0 10px; text-align: left ; width: auto;} td:nth-child(2) {text-align: left ; width: 100%}\n",
       "    .wandb-row { display: flex; flex-direction: row; flex-wrap: wrap; justify-content: flex-start; width: 100% }\n",
       "    .wandb-col { display: flex; flex-direction: column; flex-basis: 100%; flex: 1; padding: 10px; }\n",
       "    </style>\n",
       "<div class=\"wandb-row\"><div class=\"wandb-col\"><h3>Run history:</h3><br/><table class=\"wandb\"><tr><td>area_abs</td><td>▁</td></tr><tr><td>area_entropy</td><td>▁</td></tr><tr><td>elongation_entropy</td><td>▁</td></tr><tr><td>mean</td><td>▁</td></tr></table><br/></div><div class=\"wandb-col\"><h3>Run summary:</h3><br/><table class=\"wandb\"><tr><td>area_abs</td><td>25.68</td></tr><tr><td>area_entropy</td><td>0.75969</td></tr><tr><td>elongation_entropy</td><td>0.24401</td></tr><tr><td>mean</td><td>0.75969</td></tr></table><br/></div></div>"
      ],
      "text/plain": [
       "<IPython.core.display.HTML object>"
      ]
     },
     "metadata": {},
     "output_type": "display_data"
    },
    {
     "data": {
      "text/html": [
       " View run <strong style=\"color:#cdcd00\">jumping-sweep-11</strong> at: <a href='https://wandb.ai/potts-modelling/potts-optimization/runs/d3xssbb3' target=\"_blank\">https://wandb.ai/potts-modelling/potts-optimization/runs/d3xssbb3</a><br/>Synced 5 W&B file(s), 1 media file(s), 0 artifact file(s) and 0 other file(s)"
      ],
      "text/plain": [
       "<IPython.core.display.HTML object>"
      ]
     },
     "metadata": {},
     "output_type": "display_data"
    },
    {
     "data": {
      "text/html": [
       "Find logs at: <code>./wandb/run-20231121_145406-d3xssbb3/logs</code>"
      ],
      "text/plain": [
       "<IPython.core.display.HTML object>"
      ]
     },
     "metadata": {},
     "output_type": "display_data"
    },
    {
     "name": "stderr",
     "output_type": "stream",
     "text": [
      "\u001b[34m\u001b[1mwandb\u001b[0m: Agent Starting Run: g3w6sz5k with config:\n",
      "\u001b[34m\u001b[1mwandb\u001b[0m: \tDETACH_CM: 100.9168084567061\n",
      "\u001b[34m\u001b[1mwandb\u001b[0m: \tGN_CM: 233.01140077682425\n",
      "\u001b[34m\u001b[1mwandb\u001b[0m: \tINELASTICITY_CM: 759.3363126306266\n",
      "\u001b[34m\u001b[1mwandb\u001b[0m: \tJCMCM: 2.716026525019911\n",
      "\u001b[34m\u001b[1mwandb\u001b[0m: \tJCMMD: 4.5914202256119365\n",
      "\u001b[34m\u001b[1mwandb\u001b[0m: \tLMAX_CM: 17.34320643651493\n",
      "\u001b[34m\u001b[1mwandb\u001b[0m: \tMAX_FOCALS_CM: 35\n",
      "\u001b[34m\u001b[1mwandb\u001b[0m: \tTARGETVOLUME_CM: 8902.222275903485\n",
      "\u001b[34m\u001b[1mwandb\u001b[0m: \tUNLEASH_CM: 397.8056795508413\n"
     ]
    },
    {
     "data": {
      "text/html": [
       "wandb version 0.16.0 is available!  To upgrade, please run:\n",
       " $ pip install wandb --upgrade"
      ],
      "text/plain": [
       "<IPython.core.display.HTML object>"
      ]
     },
     "metadata": {},
     "output_type": "display_data"
    },
    {
     "data": {
      "text/html": [
       "Tracking run with wandb version 0.14.0"
      ],
      "text/plain": [
       "<IPython.core.display.HTML object>"
      ]
     },
     "metadata": {},
     "output_type": "display_data"
    },
    {
     "data": {
      "text/html": [
       "Run data is saved locally in <code>/home/roman/potts_random/potts_3d_new/wandb/run-20231121_145440-g3w6sz5k</code>"
      ],
      "text/plain": [
       "<IPython.core.display.HTML object>"
      ]
     },
     "metadata": {},
     "output_type": "display_data"
    },
    {
     "data": {
      "text/html": [
       "Syncing run <strong><a href='https://wandb.ai/potts-modelling/potts-optimization/runs/g3w6sz5k' target=\"_blank\">dainty-sweep-12</a></strong> to <a href='https://wandb.ai/potts-modelling/potts-optimization' target=\"_blank\">Weights & Biases</a> (<a href='https://wandb.me/run' target=\"_blank\">docs</a>)<br/>Sweep page: <a href='https://wandb.ai/potts-modelling/potts-optimization/sweeps/dsupzqfy' target=\"_blank\">https://wandb.ai/potts-modelling/potts-optimization/sweeps/dsupzqfy</a>"
      ],
      "text/plain": [
       "<IPython.core.display.HTML object>"
      ]
     },
     "metadata": {},
     "output_type": "display_data"
    },
    {
     "data": {
      "text/html": [
       " View project at <a href='https://wandb.ai/potts-modelling/potts-optimization' target=\"_blank\">https://wandb.ai/potts-modelling/potts-optimization</a>"
      ],
      "text/plain": [
       "<IPython.core.display.HTML object>"
      ]
     },
     "metadata": {},
     "output_type": "display_data"
    },
    {
     "data": {
      "text/html": [
       " View sweep at <a href='https://wandb.ai/potts-modelling/potts-optimization/sweeps/dsupzqfy' target=\"_blank\">https://wandb.ai/potts-modelling/potts-optimization/sweeps/dsupzqfy</a>"
      ],
      "text/plain": [
       "<IPython.core.display.HTML object>"
      ]
     },
     "metadata": {},
     "output_type": "display_data"
    },
    {
     "data": {
      "text/html": [
       " View run at <a href='https://wandb.ai/potts-modelling/potts-optimization/runs/g3w6sz5k' target=\"_blank\">https://wandb.ai/potts-modelling/potts-optimization/runs/g3w6sz5k</a>"
      ],
      "text/plain": [
       "<IPython.core.display.HTML object>"
      ]
     },
     "metadata": {},
     "output_type": "display_data"
    }
   ],
   "source": [
    "wandb.agent(project=\"potts-optimization\", sweep_id='dsupzqfy', function=train)"
   ]
  },
  {
   "cell_type": "code",
   "execution_count": null,
   "id": "38735750",
   "metadata": {},
   "outputs": [],
   "source": []
  }
 ],
 "metadata": {
  "kernelspec": {
   "display_name": "Python 3 (ipykernel)",
   "language": "python",
   "name": "python3"
  },
  "language_info": {
   "codemirror_mode": {
    "name": "ipython",
    "version": 3
   },
   "file_extension": ".py",
   "mimetype": "text/x-python",
   "name": "python",
   "nbconvert_exporter": "python",
   "pygments_lexer": "ipython3",
   "version": "3.8.16"
  }
 },
 "nbformat": 4,
 "nbformat_minor": 5
}
