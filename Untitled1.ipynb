{
 "cells": [
  {
   "cell_type": "code",
   "execution_count": 1,
   "id": "cdf650d6-f38e-41aa-b1a1-1145d37fa09e",
   "metadata": {},
   "outputs": [],
   "source": [
    "import pyVCT\n",
    "from draw import *\n",
    "from utils.auxiliary import *"
   ]
  },
  {
   "cell_type": "code",
   "execution_count": 2,
   "id": "4a1d7782-7a0c-4a36-9f6d-c46a5bed461c",
   "metadata": {},
   "outputs": [],
   "source": [
    "dict = {\"GN_CM\":{\"value\":586.9158340283027},\"JCMCM\":{\"value\":1.7761154792038971},\"JCMMD\":{\"value\":0.13860222352439183},\"LMAX_CM\":{\"value\":97.42763488973682},\"DETACH_CM\":{\"value\":174.07935141935408},\"UNLEASH_CM\":{\"value\":170.17711394093772},\"MAX_FOCALS_CM\":{\"value\":33},\"INELASTICITY_CM\":{\"value\":687.7916010485003},\"TARGETVOLUME_CM\":{\"value\":3000.0090362417856}}"
   ]
  },
  {
   "cell_type": "code",
   "execution_count": 3,
   "id": "7f4759d0-6835-4071-a5b2-cca2b93a9b71",
   "metadata": {},
   "outputs": [],
   "source": [
    "cfg={}"
   ]
  },
  {
   "cell_type": "code",
   "execution_count": 4,
   "id": "3c414be5-84ca-4b3c-9f35-d16368ab2840",
   "metadata": {},
   "outputs": [],
   "source": [
    "for arg,value in dict.items():\n",
    "    cfg[arg]=value['value']"
   ]
  },
  {
   "cell_type": "code",
   "execution_count": 5,
   "id": "0a6b2db2-d373-447f-9319-cad4ca169b27",
   "metadata": {},
   "outputs": [],
   "source": [
    "types, ctags, fibers, contacts = pyVCT.py_cpmfem(1,1,1,0.0,0.0025,0.2,0.2,0.1,'monolayer_on_fiber',0,11)\n"
   ]
  },
  {
   "cell_type": "code",
   "execution_count": 6,
   "id": "79bdd6db-3d83-40a1-bbba-2034d5c15651",
   "metadata": {},
   "outputs": [],
   "source": [
    "index = ctags.shape[2]//2\n",
    "metrics = metrics_3d(ctags[:,:,index], types, fibers[:,:,index], contacts[:,:,index], 160, 3)"
   ]
  },
  {
   "cell_type": "code",
   "execution_count": 7,
   "id": "9f1ccfc4-c406-41b2-909a-b9b3f8bb409c",
   "metadata": {},
   "outputs": [],
   "source": [
    "for i in range(ctags.shape[2]):\n",
    "    make_image(types,ctags[:,:,i],fibers[:,:,i],contacts[:,:,i],0, i)"
   ]
  },
  {
   "cell_type": "code",
   "execution_count": 10,
   "id": "23aa6566-1088-4a71-b17a-806d5a1750ae",
   "metadata": {},
   "outputs": [],
   "source": []
  },
  {
   "cell_type": "code",
   "execution_count": null,
   "id": "398d6fa4-9d63-4765-929d-cd216580dc59",
   "metadata": {},
   "outputs": [],
   "source": []
  }
 ],
 "metadata": {
  "kernelspec": {
   "display_name": "Python 3 (ipykernel)",
   "language": "python",
   "name": "python3"
  },
  "language_info": {
   "codemirror_mode": {
    "name": "ipython",
    "version": 3
   },
   "file_extension": ".py",
   "mimetype": "text/x-python",
   "name": "python",
   "nbconvert_exporter": "python",
   "pygments_lexer": "ipython3",
   "version": "3.11.4"
  }
 },
 "nbformat": 4,
 "nbformat_minor": 5
}
